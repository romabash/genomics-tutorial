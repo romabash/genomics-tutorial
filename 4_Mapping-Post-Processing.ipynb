{
 "cells": [
  {
   "cell_type": "markdown",
   "metadata": {},
   "source": [
    "# Mapping Post-Processing\n",
    "Compress and Sort the SAM file to BAM.  Remove duplicates and look at statistics"
   ]
  },
  {
   "cell_type": "markdown",
   "metadata": {},
   "source": [
    "<hr >"
   ]
  },
  {
   "cell_type": "markdown",
   "metadata": {},
   "source": [
    "## Current Directory Structure"
   ]
  },
  {
   "cell_type": "code",
   "execution_count": 1,
   "metadata": {},
   "outputs": [
    {
     "name": "stdout",
     "output_type": "stream",
     "text": [
      "assembly/\n",
      "data/\n",
      "fastqc-analysis/\n",
      "mappings/\n",
      "trimmed/\n"
     ]
    }
   ],
   "source": [
    "%%bash\n",
    "cd ./analysis\n",
    "ls -1F"
   ]
  },
  {
   "cell_type": "markdown",
   "metadata": {},
   "source": [
    "- data: Raw FASTQ files\n",
    "- trimmed: Sickle trimmed FASTQ files\n",
    "- fastqc-analysis: FASTQC analysis of raw and trimmed FASTQ files\n",
    "- assembly: reference genome assembly from ancestral genome with bowtie and bwa indexed references\n",
    "- mappings: bowtie and bwa aligned mappings"
   ]
  },
  {
   "cell_type": "markdown",
   "metadata": {},
   "source": [
    "<hr >"
   ]
  },
  {
   "cell_type": "markdown",
   "metadata": {},
   "source": [
    "## Post processing with Samtools \n",
    "- Install samtools with conda\n",
    "- Using samtools version 1.9"
   ]
  },
  {
   "cell_type": "raw",
   "metadata": {},
   "source": [
    "conda install samtools\n",
    "\n",
    "# samtools help\n",
    "samtools"
   ]
  },
  {
   "cell_type": "markdown",
   "metadata": {},
   "source": [
    "### SAM file format:"
   ]
  },
  {
   "cell_type": "markdown",
   "metadata": {},
   "source": [
    "| Column        | Field         | Description  |\n",
    "| ------------- |:-------------:|:-----:|\n",
    "| 1 |QNAME  |Query (pair) NAME  |\n",
    "| 2 |FLAG   |Bitwise FLAG  |\n",
    "| 3 |RNAME  |Reference sequence NAME  |\n",
    "| 4 |POS    |1-based leftmost Position/coordinate of clipped sequence  |\n",
    "| 5 |MAPQ   |Mapping Quality (Phred-scaled)  |\n",
    "| 6 |CIAGR  |Extended CIGAR string  |\n",
    "| 7 |MRNM   |Mate Reference sequence name (‘=’ if same as RNAME)|\n",
    "| 8 |MPOS   |1-based Mate Position  |\n",
    "| 9 |ISIZE  |Inferred insert SIZE  |\n",
    "| 10|SEQ    |Query Sequence on the same strand as the reference  |\n",
    "| 11|QUAL   |Query Quality (ASCII-33 gives the Phred base quality) |\n",
    "| 12|OPT    |variable Optional fields in the format TAG: VTYPE: VALUE  |"
   ]
  },
  {
   "cell_type": "markdown",
   "metadata": {},
   "source": [
    "<hr >"
   ]
  },
  {
   "cell_type": "markdown",
   "metadata": {},
   "source": [
    "## Fix Mates and Compress\n",
    "- Clean up read pairing information and flags with SAMtools. \n",
    "- Compress SAM to BAM for efficient storing\n",
    "- Use samtools sort -n to sort by name, as Samtools fixmate expects name-sorted input files\n",
    "    - -m: Add ms (mate score) tags. These are used by markdup to select the best reads to keep.\n",
    "    - -O bam: specifies compressed bam output from fixmate"
   ]
  },
  {
   "cell_type": "raw",
   "metadata": {},
   "source": [
    "samtools sort -n -O sam mappings/bwa/evolved-6.sam | samtools fixmate -m -O bam - mappings/bwa/evolved-6.fixmate.bam"
   ]
  },
  {
   "cell_type": "markdown",
   "metadata": {},
   "source": [
    "#### Look at header of BAM file (Sorted by Query Name):"
   ]
  },
  {
   "cell_type": "code",
   "execution_count": 3,
   "metadata": {},
   "outputs": [
    {
     "name": "stdout",
     "output_type": "stream",
     "text": [
      "@HD\tVN:1.6\tSO:queryname\n",
      "@SQ\tSN:NODE_1_length_1394677_cov_15.3771\tLN:1394677\n",
      "@SQ\tSN:NODE_2_length_1051867_cov_15.4779\tLN:1051867\n",
      "@SQ\tSN:NODE_3_length_950567_cov_15.4139\tLN:950567\n",
      "@SQ\tSN:NODE_4_length_925223_cov_15.3905\tLN:925223\n",
      "@SQ\tSN:NODE_5_length_916389_cov_15.4457\tLN:916389\n",
      "@SQ\tSN:NODE_6_length_772252_cov_15.4454\tLN:772252\n",
      "@SQ\tSN:NODE_7_length_506590_cov_15.6969\tLN:506590\n",
      "@SQ\tSN:NODE_8_length_473386_cov_15.0601\tLN:473386\n",
      "@SQ\tSN:NODE_9_length_438517_cov_15.3909\tLN:438517\n"
     ]
    }
   ],
   "source": [
    "%%bash\n",
    "samtools view -h analysis/mappings/bwa/evolved-6.fixmate.bam | head"
   ]
  },
  {
   "cell_type": "markdown",
   "metadata": {},
   "source": [
    "## Sort the BAM file by coordinate order\n",
    "- -O bam: specifies that the output will be bam-format\n",
    "- -o: specifies the name of the output file"
   ]
  },
  {
   "cell_type": "raw",
   "metadata": {},
   "source": [
    "samtools sort -O bam mappings/bwa/evolved-6.fixmate.bam -o mappings/bwa/evolved-6.sorted.bam "
   ]
  },
  {
   "cell_type": "markdown",
   "metadata": {},
   "source": [
    "#### Look at header of BAM file (Sorted by Coordinate):"
   ]
  },
  {
   "cell_type": "code",
   "execution_count": 4,
   "metadata": {},
   "outputs": [
    {
     "name": "stdout",
     "output_type": "stream",
     "text": [
      "@HD\tVN:1.6\tSO:coordinate\n",
      "@SQ\tSN:NODE_1_length_1394677_cov_15.3771\tLN:1394677\n",
      "@SQ\tSN:NODE_2_length_1051867_cov_15.4779\tLN:1051867\n",
      "@SQ\tSN:NODE_3_length_950567_cov_15.4139\tLN:950567\n",
      "@SQ\tSN:NODE_4_length_925223_cov_15.3905\tLN:925223\n",
      "@SQ\tSN:NODE_5_length_916389_cov_15.4457\tLN:916389\n",
      "@SQ\tSN:NODE_6_length_772252_cov_15.4454\tLN:772252\n",
      "@SQ\tSN:NODE_7_length_506590_cov_15.6969\tLN:506590\n",
      "@SQ\tSN:NODE_8_length_473386_cov_15.0601\tLN:473386\n",
      "@SQ\tSN:NODE_9_length_438517_cov_15.3909\tLN:438517\n"
     ]
    }
   ],
   "source": [
    "%%bash\n",
    "samtools view -h analysis/mappings/bwa/evolved-6.sorted.bam | head"
   ]
  },
  {
   "cell_type": "markdown",
   "metadata": {},
   "source": [
    "<hr >"
   ]
  },
  {
   "cell_type": "code",
   "execution_count": null,
   "metadata": {},
   "outputs": [],
   "source": []
  }
 ],
 "metadata": {
  "kernelspec": {
   "display_name": "Python 3",
   "language": "python",
   "name": "python3"
  },
  "language_info": {
   "codemirror_mode": {
    "name": "ipython",
    "version": 3
   },
   "file_extension": ".py",
   "mimetype": "text/x-python",
   "name": "python",
   "nbconvert_exporter": "python",
   "pygments_lexer": "ipython3",
   "version": "3.6.6"
  }
 },
 "nbformat": 4,
 "nbformat_minor": 2
}
