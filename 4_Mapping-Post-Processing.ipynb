{
 "cells": [
  {
   "cell_type": "markdown",
   "metadata": {},
   "source": [
    "# Mapping Post-Processing\n",
    "Compress and sort the SAM file to BAM.  Remove duplicates and look at statistics"
   ]
  },
  {
   "cell_type": "markdown",
   "metadata": {},
   "source": [
    "<hr >"
   ]
  },
  {
   "cell_type": "markdown",
   "metadata": {},
   "source": [
    "## Current Directory Structure"
   ]
  },
  {
   "cell_type": "code",
   "execution_count": 1,
   "metadata": {},
   "outputs": [
    {
     "name": "stdout",
     "output_type": "stream",
     "text": [
      "assembly/\n",
      "data/\n",
      "fastqc-analysis/\n",
      "mappings/\n",
      "trimmed/\n"
     ]
    }
   ],
   "source": [
    "%%bash\n",
    "cd ./analysis\n",
    "ls -1F"
   ]
  },
  {
   "cell_type": "markdown",
   "metadata": {},
   "source": [
    "- data: Raw FASTQ files\n",
    "- trimmed: Sickle trimmed FASTQ files\n",
    "- fastqc-analysis: FASTQC analysis of raw and trimmed FASTQ files\n",
    "- assembly: reference genome assembly from ancestral genome with bowtie and bwa indexed references\n",
    "- mappings: bowtie and bwa aligned mappings"
   ]
  },
  {
   "cell_type": "markdown",
   "metadata": {},
   "source": [
    "<hr >"
   ]
  },
  {
   "cell_type": "markdown",
   "metadata": {},
   "source": [
    "## Post processing with Samtools \n",
    "- Install samtools with conda\n",
    "- Using samtools version 1.9"
   ]
  },
  {
   "cell_type": "raw",
   "metadata": {},
   "source": [
    "conda install samtools\n",
    "\n",
    "# samtools help\n",
    "samtools"
   ]
  },
  {
   "cell_type": "markdown",
   "metadata": {},
   "source": [
    "### SAM file format:"
   ]
  },
  {
   "cell_type": "markdown",
   "metadata": {},
   "source": [
    "| Column        | Field         | Description  |\n",
    "| ------------- |:-------------:|:-----:|\n",
    "| 1 |QNAME  |Query (pair) NAME  |\n",
    "| 2 |FLAG   |Bitwise FLAG  |\n",
    "| 3 |RNAME  |Reference sequence NAME  |\n",
    "| 4 |POS    |1-based leftmost Position/coordinate of clipped sequence  |\n",
    "| 5 |MAPQ   |Mapping Quality (Phred-scaled)  |\n",
    "| 6 |CIAGR  |Extended CIGAR string  |\n",
    "| 7 |MRNM   |Mate Reference sequence name (‘=’ if same as RNAME)|\n",
    "| 8 |MPOS   |1-based Mate Position  |\n",
    "| 9 |ISIZE  |Inferred insert SIZE  |\n",
    "| 10|SEQ    |Query Sequence on the same strand as the reference  |\n",
    "| 11|QUAL   |Query Quality (ASCII-33 gives the Phred base quality) |\n",
    "| 12|OPT    |variable Optional fields in the format TAG: VTYPE: VALUE  |"
   ]
  },
  {
   "cell_type": "markdown",
   "metadata": {},
   "source": [
    "<hr >"
   ]
  },
  {
   "cell_type": "markdown",
   "metadata": {},
   "source": [
    "## Fix Mates and Compress\n",
    "- Clean up read pairing information and flags with SAMtools. \n",
    "- Compress SAM to BAM for efficient storing\n",
    "- Use samtools sort -n to sort by name, as Samtools fixmate expects name-sorted input files\n",
    "    - -m: Add ms (mate score) tags. These are used by markdup to select the best reads to keep.\n",
    "    - -O bam: specifies compressed bam output from fixmate"
   ]
  },
  {
   "cell_type": "raw",
   "metadata": {},
   "source": [
    "samtools sort -n -O sam mappings/bwa/evolved-6.sam | samtools fixmate -m -O bam - mappings/bwa/evolved-6.fixmate.bam"
   ]
  },
  {
   "cell_type": "markdown",
   "metadata": {},
   "source": [
    "#### Look at header of BAM file (Sorted by Query Name):"
   ]
  },
  {
   "cell_type": "code",
   "execution_count": 3,
   "metadata": {},
   "outputs": [
    {
     "name": "stdout",
     "output_type": "stream",
     "text": [
      "@HD\tVN:1.6\tSO:queryname\n",
      "@SQ\tSN:NODE_1_length_1394677_cov_15.3771\tLN:1394677\n",
      "@SQ\tSN:NODE_2_length_1051867_cov_15.4779\tLN:1051867\n",
      "@SQ\tSN:NODE_3_length_950567_cov_15.4139\tLN:950567\n",
      "@SQ\tSN:NODE_4_length_925223_cov_15.3905\tLN:925223\n",
      "@SQ\tSN:NODE_5_length_916389_cov_15.4457\tLN:916389\n",
      "@SQ\tSN:NODE_6_length_772252_cov_15.4454\tLN:772252\n",
      "@SQ\tSN:NODE_7_length_506590_cov_15.6969\tLN:506590\n",
      "@SQ\tSN:NODE_8_length_473386_cov_15.0601\tLN:473386\n",
      "@SQ\tSN:NODE_9_length_438517_cov_15.3909\tLN:438517\n"
     ]
    }
   ],
   "source": [
    "%%bash\n",
    "samtools view -h analysis/mappings/bwa/evolved-6.fixmate.bam | head"
   ]
  },
  {
   "cell_type": "markdown",
   "metadata": {},
   "source": [
    "## Sort the BAM file by coordinate order\n",
    "- -O bam: specifies that the output will be bam-format\n",
    "- -o: specifies the name of the output file"
   ]
  },
  {
   "cell_type": "raw",
   "metadata": {},
   "source": [
    "samtools sort -O bam mappings/bwa/evolved-6.fixmate.bam -o mappings/bwa/evolved-6.sorted.bam "
   ]
  },
  {
   "cell_type": "markdown",
   "metadata": {},
   "source": [
    "#### Look at header of BAM file (Sorted by Coordinate):"
   ]
  },
  {
   "cell_type": "code",
   "execution_count": 4,
   "metadata": {},
   "outputs": [
    {
     "name": "stdout",
     "output_type": "stream",
     "text": [
      "@HD\tVN:1.6\tSO:coordinate\n",
      "@SQ\tSN:NODE_1_length_1394677_cov_15.3771\tLN:1394677\n",
      "@SQ\tSN:NODE_2_length_1051867_cov_15.4779\tLN:1051867\n",
      "@SQ\tSN:NODE_3_length_950567_cov_15.4139\tLN:950567\n",
      "@SQ\tSN:NODE_4_length_925223_cov_15.3905\tLN:925223\n",
      "@SQ\tSN:NODE_5_length_916389_cov_15.4457\tLN:916389\n",
      "@SQ\tSN:NODE_6_length_772252_cov_15.4454\tLN:772252\n",
      "@SQ\tSN:NODE_7_length_506590_cov_15.6969\tLN:506590\n",
      "@SQ\tSN:NODE_8_length_473386_cov_15.0601\tLN:473386\n",
      "@SQ\tSN:NODE_9_length_438517_cov_15.3909\tLN:438517\n"
     ]
    }
   ],
   "source": [
    "%%bash\n",
    "samtools view -h analysis/mappings/bwa/evolved-6.sorted.bam | head"
   ]
  },
  {
   "cell_type": "markdown",
   "metadata": {},
   "source": [
    "## Remove Duplicates\n",
    "- Remove duplicates to mitigate the effects of PCR amplification bias introduced during library construction\n",
    "    - -r: Remove duplicate reads\n",
    "    - -S: Mark supplemenary alignments of duplicates as duplicates (slower)."
   ]
  },
  {
   "cell_type": "raw",
   "metadata": {},
   "source": [
    "samtools markdup -r -S mappings/bwa/evolved-6.sorted.bam mappings/bwa/evolved-6.sorted.dedup.bam"
   ]
  },
  {
   "cell_type": "markdown",
   "metadata": {},
   "source": [
    "<hr >"
   ]
  },
  {
   "cell_type": "markdown",
   "metadata": {},
   "source": [
    "## Mapping Statistics with Samtools\n",
    "- Mapping overview with flagstat"
   ]
  },
  {
   "cell_type": "code",
   "execution_count": 7,
   "metadata": {},
   "outputs": [
    {
     "name": "stdout",
     "output_type": "stream",
     "text": [
      "4891748 + 0 in total (QC-passed reads + QC-failed reads)\n",
      "0 + 0 secondary\n",
      "1008 + 0 supplementary\n",
      "0 + 0 duplicates\n",
      "4886012 + 0 mapped (99.88% : N/A)\n",
      "4890740 + 0 paired in sequencing\n",
      "2445370 + 0 read1\n",
      "2445370 + 0 read2\n",
      "4845934 + 0 properly paired (99.08% : N/A)\n",
      "4880440 + 0 with itself and mate mapped\n",
      "4564 + 0 singletons (0.09% : N/A)\n",
      "29386 + 0 with mate mapped to a different chr\n",
      "28781 + 0 with mate mapped to a different chr (mapQ>=5)\n"
     ]
    }
   ],
   "source": [
    "%%bash\n",
    "# Looking at sorted BAM file\n",
    "samtools flagstat analysis/mappings/bwa/evolved-6.sorted.bam"
   ]
  },
  {
   "cell_type": "code",
   "execution_count": 8,
   "metadata": {},
   "outputs": [
    {
     "name": "stdout",
     "output_type": "stream",
     "text": [
      "4876768 + 0 in total (QC-passed reads + QC-failed reads)\n",
      "0 + 0 secondary\n",
      "1006 + 0 supplementary\n",
      "0 + 0 duplicates\n",
      "4872117 + 0 mapped (99.90% : N/A)\n",
      "4875762 + 0 paired in sequencing\n",
      "2437881 + 0 read1\n",
      "2437881 + 0 read2\n",
      "4833394 + 0 properly paired (99.13% : N/A)\n",
      "4867632 + 0 with itself and mate mapped\n",
      "3479 + 0 singletons (0.07% : N/A)\n",
      "29132 + 0 with mate mapped to a different chr\n",
      "28529 + 0 with mate mapped to a different chr (mapQ>=5)\n"
     ]
    }
   ],
   "source": [
    "%%bash\n",
    "# Looking at sorted BAM file with removed duplicates\n",
    "samtools flagstat analysis/mappings/bwa/evolved-6.sorted.dedup.bam"
   ]
  },
  {
   "cell_type": "markdown",
   "metadata": {},
   "source": [
    "- \\>99% properly paired reads"
   ]
  },
  {
   "cell_type": "code",
   "execution_count": null,
   "metadata": {},
   "outputs": [],
   "source": []
  }
 ],
 "metadata": {
  "kernelspec": {
   "display_name": "Python 3",
   "language": "python",
   "name": "python3"
  },
  "language_info": {
   "codemirror_mode": {
    "name": "ipython",
    "version": 3
   },
   "file_extension": ".py",
   "mimetype": "text/x-python",
   "name": "python",
   "nbconvert_exporter": "python",
   "pygments_lexer": "ipython3",
   "version": "3.6.6"
  }
 },
 "nbformat": 4,
 "nbformat_minor": 2
}
