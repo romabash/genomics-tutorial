{
 "cells": [
  {
   "cell_type": "markdown",
   "metadata": {},
   "source": [
    "# Mapping Post-Processing\n",
    "Compress and sort the SAM file to BAM.  Remove duplicates and look at statistics"
   ]
  },
  {
   "cell_type": "markdown",
   "metadata": {},
   "source": [
    "<hr >"
   ]
  },
  {
   "cell_type": "markdown",
   "metadata": {},
   "source": [
    "## Current Directory Structure"
   ]
  },
  {
   "cell_type": "code",
   "execution_count": 1,
   "metadata": {},
   "outputs": [
    {
     "name": "stdout",
     "output_type": "stream",
     "text": [
      "assembly/\n",
      "data/\n",
      "fastqc-analysis/\n",
      "mappings/\n",
      "trimmed/\n"
     ]
    }
   ],
   "source": [
    "%%bash\n",
    "cd ./analysis\n",
    "ls -1F"
   ]
  },
  {
   "cell_type": "markdown",
   "metadata": {},
   "source": [
    "- data: Raw FASTQ files\n",
    "- trimmed: Sickle trimmed FASTQ files\n",
    "- fastqc-analysis: FASTQC analysis of raw and trimmed FASTQ files\n",
    "- assembly: reference genome assembly from ancestral genome with bowtie and bwa indexed references\n",
    "- mappings: bowtie and bwa aligned mappings"
   ]
  },
  {
   "cell_type": "markdown",
   "metadata": {},
   "source": [
    "<hr >"
   ]
  },
  {
   "cell_type": "markdown",
   "metadata": {},
   "source": [
    "## Post processing with Samtools \n",
    "- Install samtools with conda\n",
    "- Using samtools version 1.9"
   ]
  },
  {
   "cell_type": "raw",
   "metadata": {},
   "source": [
    "conda install samtools\n",
    "\n",
    "# samtools help\n",
    "samtools"
   ]
  },
  {
   "cell_type": "markdown",
   "metadata": {},
   "source": [
    "### SAM file format:"
   ]
  },
  {
   "cell_type": "markdown",
   "metadata": {},
   "source": [
    "| Column        | Field         | Description  |\n",
    "| ------------- |:-------------:|:-----:|\n",
    "| 1 |QNAME  |Query (pair) NAME  |\n",
    "| 2 |FLAG   |Bitwise FLAG  |\n",
    "| 3 |RNAME  |Reference sequence NAME  |\n",
    "| 4 |POS    |1-based leftmost Position/coordinate of clipped sequence  |\n",
    "| 5 |MAPQ   |Mapping Quality (Phred-scaled)  |\n",
    "| 6 |CIAGR  |Extended CIGAR string  |\n",
    "| 7 |MRNM   |Mate Reference sequence name (‘=’ if same as RNAME)|\n",
    "| 8 |MPOS   |1-based Mate Position  |\n",
    "| 9 |ISIZE  |Inferred insert SIZE  |\n",
    "| 10|SEQ    |Query Sequence on the same strand as the reference  |\n",
    "| 11|QUAL   |Query Quality (ASCII-33 gives the Phred base quality) |\n",
    "| 12|OPT    |variable Optional fields in the format TAG: VTYPE: VALUE  |"
   ]
  },
  {
   "cell_type": "markdown",
   "metadata": {},
   "source": [
    "<hr >"
   ]
  },
  {
   "cell_type": "markdown",
   "metadata": {},
   "source": [
    "## Fix Mates and Compress\n",
    "- Clean up read pairing information and flags with SAMtools. \n",
    "- Compress SAM to BAM for efficient storing\n",
    "- Use samtools sort -n to sort by name, as Samtools fixmate expects name-sorted input files\n",
    "    - -m: Add ms (mate score) tags. These are used by markdup to select the best reads to keep.\n",
    "    - -O bam: specifies compressed bam output from fixmate"
   ]
  },
  {
   "cell_type": "raw",
   "metadata": {},
   "source": [
    "samtools sort -n -O sam mappings/bwa/evolved-6.sam | samtools fixmate -m -O bam - mappings/bwa/evolved-6.fixmate.bam"
   ]
  },
  {
   "cell_type": "markdown",
   "metadata": {},
   "source": [
    "#### Look at header of BAM file (Sorted by Query Name):"
   ]
  },
  {
   "cell_type": "code",
   "execution_count": 3,
   "metadata": {},
   "outputs": [
    {
     "name": "stdout",
     "output_type": "stream",
     "text": [
      "@HD\tVN:1.6\tSO:queryname\n",
      "@SQ\tSN:NODE_1_length_1394677_cov_15.3771\tLN:1394677\n",
      "@SQ\tSN:NODE_2_length_1051867_cov_15.4779\tLN:1051867\n",
      "@SQ\tSN:NODE_3_length_950567_cov_15.4139\tLN:950567\n",
      "@SQ\tSN:NODE_4_length_925223_cov_15.3905\tLN:925223\n",
      "@SQ\tSN:NODE_5_length_916389_cov_15.4457\tLN:916389\n",
      "@SQ\tSN:NODE_6_length_772252_cov_15.4454\tLN:772252\n",
      "@SQ\tSN:NODE_7_length_506590_cov_15.6969\tLN:506590\n",
      "@SQ\tSN:NODE_8_length_473386_cov_15.0601\tLN:473386\n",
      "@SQ\tSN:NODE_9_length_438517_cov_15.3909\tLN:438517\n"
     ]
    }
   ],
   "source": [
    "%%bash\n",
    "samtools view -h analysis/mappings/bwa/evolved-6.fixmate.bam | head"
   ]
  },
  {
   "cell_type": "markdown",
   "metadata": {},
   "source": [
    "## Sort the BAM file by coordinate order\n",
    "- -O bam: specifies that the output will be bam-format\n",
    "- -o: specifies the name of the output file"
   ]
  },
  {
   "cell_type": "raw",
   "metadata": {},
   "source": [
    "samtools sort -O bam mappings/bwa/evolved-6.fixmate.bam -o mappings/bwa/evolved-6.sorted.bam "
   ]
  },
  {
   "cell_type": "markdown",
   "metadata": {},
   "source": [
    "#### Look at header of BAM file (Sorted by Coordinate):"
   ]
  },
  {
   "cell_type": "code",
   "execution_count": 4,
   "metadata": {},
   "outputs": [
    {
     "name": "stdout",
     "output_type": "stream",
     "text": [
      "@HD\tVN:1.6\tSO:coordinate\n",
      "@SQ\tSN:NODE_1_length_1394677_cov_15.3771\tLN:1394677\n",
      "@SQ\tSN:NODE_2_length_1051867_cov_15.4779\tLN:1051867\n",
      "@SQ\tSN:NODE_3_length_950567_cov_15.4139\tLN:950567\n",
      "@SQ\tSN:NODE_4_length_925223_cov_15.3905\tLN:925223\n",
      "@SQ\tSN:NODE_5_length_916389_cov_15.4457\tLN:916389\n",
      "@SQ\tSN:NODE_6_length_772252_cov_15.4454\tLN:772252\n",
      "@SQ\tSN:NODE_7_length_506590_cov_15.6969\tLN:506590\n",
      "@SQ\tSN:NODE_8_length_473386_cov_15.0601\tLN:473386\n",
      "@SQ\tSN:NODE_9_length_438517_cov_15.3909\tLN:438517\n"
     ]
    }
   ],
   "source": [
    "%%bash\n",
    "samtools view -h analysis/mappings/bwa/evolved-6.sorted.bam | head"
   ]
  },
  {
   "cell_type": "markdown",
   "metadata": {},
   "source": [
    "## Remove Duplicates\n",
    "- Remove duplicates to mitigate the effects of PCR amplification bias introduced during library construction\n",
    "    - -r: Remove duplicate reads\n",
    "    - -S: Mark supplemenary alignments of duplicates as duplicates (slower)."
   ]
  },
  {
   "cell_type": "raw",
   "metadata": {},
   "source": [
    "samtools markdup -r -S mappings/bwa/evolved-6.sorted.bam mappings/bwa/evolved-6.sorted.dedup.bam"
   ]
  },
  {
   "cell_type": "markdown",
   "metadata": {},
   "source": [
    "<hr >"
   ]
  },
  {
   "cell_type": "markdown",
   "metadata": {},
   "source": [
    "## Mapping Statistics with Samtools\n",
    "- Mapping overview with flagstat"
   ]
  },
  {
   "cell_type": "code",
   "execution_count": 7,
   "metadata": {},
   "outputs": [
    {
     "name": "stdout",
     "output_type": "stream",
     "text": [
      "4891748 + 0 in total (QC-passed reads + QC-failed reads)\n",
      "0 + 0 secondary\n",
      "1008 + 0 supplementary\n",
      "0 + 0 duplicates\n",
      "4886012 + 0 mapped (99.88% : N/A)\n",
      "4890740 + 0 paired in sequencing\n",
      "2445370 + 0 read1\n",
      "2445370 + 0 read2\n",
      "4845934 + 0 properly paired (99.08% : N/A)\n",
      "4880440 + 0 with itself and mate mapped\n",
      "4564 + 0 singletons (0.09% : N/A)\n",
      "29386 + 0 with mate mapped to a different chr\n",
      "28781 + 0 with mate mapped to a different chr (mapQ>=5)\n"
     ]
    }
   ],
   "source": [
    "%%bash\n",
    "# Looking at sorted BAM file\n",
    "samtools flagstat analysis/mappings/bwa/evolved-6.sorted.bam"
   ]
  },
  {
   "cell_type": "code",
   "execution_count": 8,
   "metadata": {},
   "outputs": [
    {
     "name": "stdout",
     "output_type": "stream",
     "text": [
      "4876768 + 0 in total (QC-passed reads + QC-failed reads)\n",
      "0 + 0 secondary\n",
      "1006 + 0 supplementary\n",
      "0 + 0 duplicates\n",
      "4872117 + 0 mapped (99.90% : N/A)\n",
      "4875762 + 0 paired in sequencing\n",
      "2437881 + 0 read1\n",
      "2437881 + 0 read2\n",
      "4833394 + 0 properly paired (99.13% : N/A)\n",
      "4867632 + 0 with itself and mate mapped\n",
      "3479 + 0 singletons (0.07% : N/A)\n",
      "29132 + 0 with mate mapped to a different chr\n",
      "28529 + 0 with mate mapped to a different chr (mapQ>=5)\n"
     ]
    }
   ],
   "source": [
    "%%bash\n",
    "# Looking at sorted BAM file with removed duplicates\n",
    "samtools flagstat analysis/mappings/bwa/evolved-6.sorted.dedup.bam"
   ]
  },
  {
   "cell_type": "markdown",
   "metadata": {},
   "source": [
    "- \\>99% properly paired reads"
   ]
  },
  {
   "cell_type": "markdown",
   "metadata": {},
   "source": [
    "## Get read depth for all positions of the reference genome\n",
    "- Using samtools depth \n",
    "- The output is a tab-separated table with three columns: reference name, position, and coverage depth."
   ]
  },
  {
   "cell_type": "raw",
   "metadata": {},
   "source": [
    "samtools depth mappings/bwa/evolved-6.sorted.dedup.bam | gzip > mappings/bwa/evolved-6.depth.txt.gz"
   ]
  },
  {
   "cell_type": "code",
   "execution_count": 2,
   "metadata": {},
   "outputs": [
    {
     "name": "stdout",
     "output_type": "stream",
     "text": [
      "NODE_1_length_1394677_cov_15.3771\t1\t16\n",
      "NODE_1_length_1394677_cov_15.3771\t2\t17\n",
      "NODE_1_length_1394677_cov_15.3771\t3\t17\n",
      "NODE_1_length_1394677_cov_15.3771\t4\t17\n",
      "NODE_1_length_1394677_cov_15.3771\t5\t17\n",
      "NODE_1_length_1394677_cov_15.3771\t6\t17\n",
      "NODE_1_length_1394677_cov_15.3771\t7\t18\n",
      "NODE_1_length_1394677_cov_15.3771\t8\t18\n",
      "NODE_1_length_1394677_cov_15.3771\t9\t19\n",
      "NODE_1_length_1394677_cov_15.3771\t10\t20\n"
     ]
    }
   ],
   "source": [
    "%%bash\n",
    "\n",
    "#Look at the head of the created file\n",
    "zcat analysis/mappings/bwa/evolved-6.depth.txt.gz | head"
   ]
  },
  {
   "cell_type": "markdown",
   "metadata": {},
   "source": [
    "### Get the depth values only for contig 20"
   ]
  },
  {
   "cell_type": "raw",
   "metadata": {},
   "source": [
    "zcat mappings/bwa/evolved-6.depth.txt.gz | egrep '^NODE_20_' >  mappings/bwa/NODE_20.depth.txt"
   ]
  },
  {
   "cell_type": "code",
   "execution_count": 9,
   "metadata": {},
   "outputs": [
    {
     "name": "stdout",
     "output_type": "stream",
     "text": [
      "NODE_20_length_221308_cov_14.906\t1\t14\n",
      "NODE_20_length_221308_cov_14.906\t2\t14\n",
      "NODE_20_length_221308_cov_14.906\t3\t14\n",
      "NODE_20_length_221308_cov_14.906\t4\t14\n",
      "NODE_20_length_221308_cov_14.906\t5\t14\n",
      "NODE_20_length_221308_cov_14.906\t6\t16\n",
      "NODE_20_length_221308_cov_14.906\t7\t16\n",
      "NODE_20_length_221308_cov_14.906\t8\t16\n",
      "NODE_20_length_221308_cov_14.906\t9\t16\n",
      "NODE_20_length_221308_cov_14.906\t10\t16\n"
     ]
    }
   ],
   "source": [
    "%%bash\n",
    "\n",
    "#Look at the head of the NODE-20 file\n",
    "cat analysis/mappings/bwa/NODE_20.depth.txt | head"
   ]
  },
  {
   "cell_type": "markdown",
   "metadata": {},
   "source": [
    "### Plot read depth statistics"
   ]
  },
  {
   "cell_type": "code",
   "execution_count": 1,
   "metadata": {},
   "outputs": [
    {
     "data": {
      "text/html": [
       "<div>\n",
       "<style scoped>\n",
       "    .dataframe tbody tr th:only-of-type {\n",
       "        vertical-align: middle;\n",
       "    }\n",
       "\n",
       "    .dataframe tbody tr th {\n",
       "        vertical-align: top;\n",
       "    }\n",
       "\n",
       "    .dataframe thead th {\n",
       "        text-align: right;\n",
       "    }\n",
       "</style>\n",
       "<table border=\"1\" class=\"dataframe\">\n",
       "  <thead>\n",
       "    <tr style=\"text-align: right;\">\n",
       "      <th></th>\n",
       "      <th>Name</th>\n",
       "      <th>Position</th>\n",
       "      <th>Depth</th>\n",
       "    </tr>\n",
       "  </thead>\n",
       "  <tbody>\n",
       "    <tr>\n",
       "      <th>0</th>\n",
       "      <td>NODE_20_length_221308_cov_14.906</td>\n",
       "      <td>1</td>\n",
       "      <td>14</td>\n",
       "    </tr>\n",
       "    <tr>\n",
       "      <th>1</th>\n",
       "      <td>NODE_20_length_221308_cov_14.906</td>\n",
       "      <td>2</td>\n",
       "      <td>14</td>\n",
       "    </tr>\n",
       "    <tr>\n",
       "      <th>2</th>\n",
       "      <td>NODE_20_length_221308_cov_14.906</td>\n",
       "      <td>3</td>\n",
       "      <td>14</td>\n",
       "    </tr>\n",
       "    <tr>\n",
       "      <th>3</th>\n",
       "      <td>NODE_20_length_221308_cov_14.906</td>\n",
       "      <td>4</td>\n",
       "      <td>14</td>\n",
       "    </tr>\n",
       "    <tr>\n",
       "      <th>4</th>\n",
       "      <td>NODE_20_length_221308_cov_14.906</td>\n",
       "      <td>5</td>\n",
       "      <td>14</td>\n",
       "    </tr>\n",
       "  </tbody>\n",
       "</table>\n",
       "</div>"
      ],
      "text/plain": [
       "                               Name  Position  Depth\n",
       "0  NODE_20_length_221308_cov_14.906         1     14\n",
       "1  NODE_20_length_221308_cov_14.906         2     14\n",
       "2  NODE_20_length_221308_cov_14.906         3     14\n",
       "3  NODE_20_length_221308_cov_14.906         4     14\n",
       "4  NODE_20_length_221308_cov_14.906         5     14"
      ]
     },
     "execution_count": 1,
     "metadata": {},
     "output_type": "execute_result"
    }
   ],
   "source": [
    "import numpy as np\n",
    "import pandas as pd\n",
    "from matplotlib import pyplot as plt\n",
    "import seaborn as sns; sns.set()\n",
    "\n",
    "df = pd.read_table('./analysis/mappings/bwa/NODE_20.depth.txt', header=None, names=[\"Name\", \"Position\", \"Depth\"])\n",
    "df.head()"
   ]
  },
  {
   "cell_type": "code",
   "execution_count": 2,
   "metadata": {},
   "outputs": [
    {
     "data": {
      "text/plain": [
       "53.62305022864063"
      ]
     },
     "execution_count": 2,
     "metadata": {},
     "output_type": "execute_result"
    }
   ],
   "source": [
    "# calculate average depth\n",
    "df[\"Depth\"].mean()"
   ]
  },
  {
   "cell_type": "code",
   "execution_count": 3,
   "metadata": {},
   "outputs": [
    {
     "data": {
      "image/png": "[encoded data removed]",
      "text/plain": [
       "<Figure size 432x288 with 1 Axes>"
      ]
     },
     "metadata": {
      "needs_background": "light"
     },
     "output_type": "display_data"
    }
   ],
   "source": [
    "# Plot with Seaborn\n",
    "plt.plot( 'Position', 'Depth', data=df)\n",
    "plt.show()"
   ]
  },
  {
   "cell_type": "markdown",
   "metadata": {},
   "source": [
    "<hr>"
   ]
  },
  {
   "cell_type": "markdown",
   "metadata": {},
   "source": [
    "## Selecting Reads\n",
    "- Sub-select from the output reads to analyse further using SAMtools\n",
    "- Unmapped reads, multi-mapping reads, unpaired reads, discordant read pairs, etc."
   ]
  },
  {
   "cell_type": "code",
   "execution_count": 4,
   "metadata": {},
   "outputs": [
    {
     "name": "stderr",
     "output_type": "stream",
     "text": [
      "\n",
      "About: Convert between textual and numeric flag representation\n",
      "Usage: samtools flags INT|STR[,...]\n",
      "\n",
      "Flags:\n",
      "\t0x1\tPAIRED        .. paired-end (or multiple-segment) sequencing technology\n",
      "\t0x2\tPROPER_PAIR   .. each segment properly aligned according to the aligner\n",
      "\t0x4\tUNMAP         .. segment unmapped\n",
      "\t0x8\tMUNMAP        .. next segment in the template unmapped\n",
      "\t0x10\tREVERSE       .. SEQ is reverse complemented\n",
      "\t0x20\tMREVERSE      .. SEQ of the next segment in the template is reversed\n",
      "\t0x40\tREAD1         .. the first segment in the template\n",
      "\t0x80\tREAD2         .. the last segment in the template\n",
      "\t0x100\tSECONDARY     .. secondary alignment\n",
      "\t0x200\tQCFAIL        .. not passing quality controls\n",
      "\t0x400\tDUP           .. PCR or optical duplicate\n",
      "\t0x800\tSUPPLEMENTARY .. supplementary alignment\n",
      "\n"
     ]
    }
   ],
   "source": [
    "%%bash\n",
    "\n",
    "# Look at definition of FALGS\n",
    "samtools flags"
   ]
  },
  {
   "cell_type": "markdown",
   "metadata": {},
   "source": [
    "### Select read-pair that have been mapped in a correct manner (same chromosome/contig, correct orientation to each other, correct distance between reads)\n",
    "- -h: Include the sam header\n",
    "- -b: Output will be bam-format\n",
    "- -f 3: Only extract correctly paired reads. -f extracts alignments with the specified SAM flag set"
   ]
  },
  {
   "cell_type": "raw",
   "metadata": {},
   "source": [
    "samtools view -h -b -f 3 mappings/bwa/evolved-6.sorted.dedup.bam > mappings/bwa/evolved-6.sorted.dedup.concordant.bam"
   ]
  },
  {
   "cell_type": "markdown",
   "metadata": {},
   "source": [
    "### Select reads based on Quality\n",
    "- Sub-select reads based on the quality of the mapping\n",
    "- Extract reads with mapping quality >= 20\n",
    "    - -h: Include the sam header\n",
    "    - -b: Output will be bam-format\n",
    "    - -q: Only include reads with mapping quality >= INT"
   ]
  },
  {
   "cell_type": "raw",
   "metadata": {},
   "source": [
    "samtools view -h -b -q 20 mappings/bwa/evolved-6.sorted.dedup.bam > mappings/bwa/evolved-6.sorted.dedup.q20.bam"
   ]
  },
  {
   "cell_type": "markdown",
   "metadata": {},
   "source": [
    "### Extract Unmapped reads\n",
    "- can extract unmapped sequence reads to classify and identify the species they are coming from and test for contamination\n",
    "    - -b: indicates that the output is BAM.\n",
    "    - -f INT: only include reads with this SAM flag set"
   ]
  },
  {
   "cell_type": "raw",
   "metadata": {},
   "source": [
    "samtools view -b -f 4 mappings/bwa/evolved-6.sorted.dedup.bam > mappings/bwa/evolved-6.sorted.unmapped.bam"
   ]
  },
  {
   "cell_type": "code",
   "execution_count": 6,
   "metadata": {},
   "outputs": [
    {
     "name": "stdout",
     "output_type": "stream",
     "text": [
      "4651\n"
     ]
    }
   ],
   "source": [
    "%%bash\n",
    "\n",
    "# count them number of unmapped reads\n",
    "samtools view -c analysis/mappings/bwa/evolved-6.sorted.unmapped.bam"
   ]
  },
  {
   "cell_type": "markdown",
   "metadata": {},
   "source": [
    "### Extract FASTQ files from the unmapped reads using BedTools\n",
    "- Install bedtools using conda\n",
    "- Using version 2.27.1\n",
    "- Using bedtools bamtofastq (aka bamToFastq)"
   ]
  },
  {
   "cell_type": "raw",
   "metadata": {},
   "source": [
    "bamToFastq -i mappings/bwa/evolved-6.sorted.unmapped.bam -fq mappings/bwa/evolved-6.sorted.unmapped.R1.fastq -fq2  mappings/bwa/evolved-6.sorted.unmapped.R2.fastq"
   ]
  },
  {
   "cell_type": "markdown",
   "metadata": {},
   "source": [
    "<hr >"
   ]
  }
 ],
 "metadata": {
  "kernelspec": {
   "display_name": "Python 3",
   "language": "python",
   "name": "python3"
  },
  "language_info": {
   "codemirror_mode": {
    "name": "ipython",
    "version": 3
   },
   "file_extension": ".py",
   "mimetype": "text/x-python",
   "name": "python",
   "nbconvert_exporter": "python",
   "pygments_lexer": "ipython3",
   "version": "3.6.6"
  }
 },
 "nbformat": 4,
 "nbformat_minor": 2
}
