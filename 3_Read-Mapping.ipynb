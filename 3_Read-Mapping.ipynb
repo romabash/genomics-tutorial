{
 "cells": [
  {
   "cell_type": "markdown",
   "metadata": {},
   "source": [
    "# Read Mapping\n",
    "Map reads from the evolved line to ancestral reference genome"
   ]
  },
  {
   "cell_type": "markdown",
   "metadata": {},
   "source": [
    "<hr >"
   ]
  },
  {
   "cell_type": "markdown",
   "metadata": {},
   "source": [
    "## Current Directory Structure"
   ]
  },
  {
   "cell_type": "code",
   "execution_count": 1,
   "metadata": {},
   "outputs": [
    {
     "name": "stdout",
     "output_type": "stream",
     "text": [
      "assembly/\n",
      "data/\n",
      "fastqc-analysis/\n",
      "trimmed/\n"
     ]
    }
   ],
   "source": [
    "%%bash\n",
    "cd ./analysis\n",
    "ls -1F"
   ]
  },
  {
   "cell_type": "markdown",
   "metadata": {},
   "source": [
    "- data: Raw FASTQ files\n",
    "- trimmed: Sickle trimmed FASTQ files\n",
    "- fastqc-analysis: FASTQC analysis of raw and trimmed FASTQ files\n",
    "- assembly: reference genome assembly from ancestral genome"
   ]
  },
  {
   "cell_type": "markdown",
   "metadata": {},
   "source": [
    "<hr >"
   ]
  },
  {
   "cell_type": "markdown",
   "metadata": {},
   "source": [
    "## Bowtie2: Mapping sequence reads to a reference genome\n",
    "- Install using conda\n",
    "- Using bowtie2-2.3.4.3 version"
   ]
  },
  {
   "cell_type": "raw",
   "metadata": {},
   "source": [
    "conda install bowtie2\n",
    "\n",
    "# bowtie2 help\n",
    "bowtie2-build"
   ]
  },
  {
   "cell_type": "markdown",
   "metadata": {},
   "source": [
    "### Index with bowtie2\n",
    "- Use bowtie2-build to index reference genome\n",
    "- bowtie2-build {reference_in} {bt2_index_base}"
   ]
  },
  {
   "cell_type": "raw",
   "metadata": {},
   "source": [
    "bowtie2-build assembly/bowtie2/scaffolds.fasta assembly/bowtie2/scaffolds"
   ]
  },
  {
   "cell_type": "markdown",
   "metadata": {},
   "source": [
    "- Creates several .bt2 binary files"
   ]
  },
  {
   "cell_type": "code",
   "execution_count": 4,
   "metadata": {},
   "outputs": [
    {
     "name": "stdout",
     "output_type": "stream",
     "text": [
      "contigs.fasta\n",
      "contigs.paths\n",
      "scaffolds.1.bt2\n",
      "scaffolds.2.bt2\n",
      "scaffolds.3.bt2\n",
      "scaffolds.4.bt2\n",
      "scaffolds.fasta\n",
      "scaffolds.paths\n",
      "scaffolds.rev.1.bt2\n",
      "scaffolds.rev.2.bt2\n"
     ]
    }
   ],
   "source": [
    "%%bash\n",
    "cd ./analysis/assembly/bowtie2\n",
    "ls "
   ]
  },
  {
   "cell_type": "markdown",
   "metadata": {},
   "source": [
    "### Map pair-end reads using Bowtie2\n",
    "- Map the filtered and trimmed sequencing reads of evolved line to the reference genome\n",
    "- bowtie2 -X 1000 -x PATH_TO_INDEX_PREFIX -1 read1.fq.gz -2 read2.fq.gz -S aln-pe.sam\n",
    "    - -X: Adjust the maximum fragment size (length of paired-end alignments + insert size) to 1000bp.  Default is at 500bp and is often too short\n",
    "    - -S: Sam file output"
   ]
  },
  {
   "cell_type": "raw",
   "metadata": {},
   "source": [
    "bowtie2 -X 1000 -x assembly/bowtie2/scaffolds -1 trimmed/evolved-6-R1.trimmed.fastq.gz -2 trimmed/evolved-6-R2.trimmed.fastq.gz -S mappings/bowtie2/evolved-6.sam"
   ]
  },
  {
   "cell_type": "markdown",
   "metadata": {},
   "source": [
    "#### Output:\n",
    "- 2445370 reads; of these:\n",
    "      - 2445370 (100.00%) were paired; of these:\n",
    "            - 26060 (1.07%) aligned concordantly 0 times\n",
    "            - 2399778 (98.14%) aligned concordantly exactly 1 time\n",
    "            - 19532 (0.80%) aligned concordantly >1 times\n",
    "    ----\n",
    "    - 26060 pairs aligned concordantly 0 times; of these:\n",
    "        - 16085 (61.72%) aligned discordantly 1 time\n",
    "    ----\n",
    "    - 9975 pairs aligned 0 times concordantly or discordantly; of these:\n",
    "        - 19950 mates make up the pairs; of these:\n",
    "            - 8456 (42.39%) aligned 0 times\n",
    "            - 7628 (38.24%) aligned exactly 1 time\n",
    "            - 3866 (19.38%) aligned >1 times\n",
    "99.83% overall alignment rate\n"
   ]
  },
  {
   "cell_type": "markdown",
   "metadata": {},
   "source": [
    "#### Look at the created (unsorted) SAM file:"
   ]
  },
  {
   "cell_type": "code",
   "execution_count": 3,
   "metadata": {},
   "outputs": [
    {
     "name": "stdout",
     "output_type": "stream",
     "text": [
      "@HD\tVN:1.0\tSO:unsorted\n",
      "@SQ\tSN:NODE_1_length_1394677_cov_15.3771\tLN:1394677\n",
      "@SQ\tSN:NODE_2_length_1051867_cov_15.4779\tLN:1051867\n",
      "@SQ\tSN:NODE_3_length_950567_cov_15.4139\tLN:950567\n",
      "@SQ\tSN:NODE_4_length_925223_cov_15.3905\tLN:925223\n",
      "@SQ\tSN:NODE_5_length_916389_cov_15.4457\tLN:916389\n",
      "@SQ\tSN:NODE_6_length_772252_cov_15.4454\tLN:772252\n",
      "@SQ\tSN:NODE_7_length_506590_cov_15.6969\tLN:506590\n",
      "@SQ\tSN:NODE_8_length_473386_cov_15.0601\tLN:473386\n",
      "@SQ\tSN:NODE_9_length_438517_cov_15.3909\tLN:438517\n"
     ]
    }
   ],
   "source": [
    "%%bash\n",
    "head ./analysis/mappings/bowtie2/evolved-6.sam"
   ]
  },
  {
   "cell_type": "markdown",
   "metadata": {},
   "source": [
    "#### Look at the SAM file without the header:"
   ]
  },
  {
   "cell_type": "code",
   "execution_count": 4,
   "metadata": {},
   "outputs": [
    {
     "name": "stdout",
     "output_type": "stream",
     "text": [
      "./analysis/mappings/bowtie2/evolved-6.sam:M02810:197:000000000-AV55U:1:1101:10000:11540\t83\tNODE_1_length_1394677_cov_15.3771\t582530\t42\t151M\t=\t582252\t-429\tTATGGTATCACTTATGGTATCACTTATGGCTATCACTAATGGCTATCACTTATGGTATCACTTATGACTATCAGACGTTATTACTATCAGACGATAACTATCAGACTTTATTACTATCACTTTCATATTACCCACTATCATCCCTTCTTTA\tFHGHHHHHGGGHHHHHHHHHHHHHHHHHHGHHHHHHHHHHHGHHHHHGHHHHHHHHGDHHHHHHHHGHHHHGHHHGHHHHHHFHHHHGHHHHIHHHHHHHHHHHHHHHHHHHGHHHHHGHGHHHHHHHHEGGGGGGGGGFBCFFFFCCCCC\tAS:i:0\tXN:i:0\tXM:i:0\tXO:i:0\tXG:i:0\tNM:i:0\tMD:Z:151\tYS:i:-4\tYT:Z:CP\n",
      "./analysis/mappings/bowtie2/evolved-6.sam:M02810:197:000000000-AV55U:1:1101:10000:11540\t163\tNODE_1_length_1394677_cov_15.3771\t582252\t42\t151M\t=\t582530\t429\tATTTCAACCAAGATCGTTTCATCAAAGATCGTTTCAAGAGACAAAGATCGTTTCAATACAAGATCATTTCAATAGAATATCGTTTCAGAAGATTGATGAATACTATGAAGAGGTCGTGATCATGGTATGTTTACCATAATGATCCACAGCA\tBBBBBFFFFBBFCGGGGCFGG6DDBBFHHHHHHGHHHGHGHHHHHGFHFHFGGHHGHHHHHHHHHHHHHHHHHHHGFGFHHGHHGFHHHHHGHHHHFGGHHHHHHHHEHHGHGHHGEGHHHHHHGFGHHHHHHHHFHHHHHHHBFHHHGFH\tAS:i:-4\tXN:i:0\tXM:i:1\tXO:i:0\tXG:i:0\tNM:i:1\tMD:Z:21A129\tYS:i:0\tYT:Z:CP\n",
      "./analysis/mappings/bowtie2/evolved-6.sam:M02810:197:000000000-AV55U:1:1101:10000:13729\t99\tNODE_12_length_340347_cov_15.499\t185617\t42\t151M\t=\t185716\t250\tAGTCTATTCAAAAAATGTAGCAAAAAGTAGGATAGCCGTGAAGGTCCATAGTAAGAGATTACATTGAGAAGCAAAGGGTCATAGCTGTATTCTCCGGATCAATGTCGGCACATGCATTGCATTTCTGCGTTGTGATTATCATCGTTAGTTG\t>ABBBFFFFFFFFFFGGGGBFBFFHCEFGBFFGHHFFEAA2FGFAGHHHHHHHFFAEAGHHHHHHHBGEGGHHGHHHGGFHFGGHHGGHFHHHGFEGEGGHHHFGHC>EGGHHFHHGFHHHHHHHHGHGGGGCEHHHHGFFHHHHHEEFDH\tAS:i:0\tXN:i:0\tXM:i:0\tXO:i:0\tXG:i:0\tNM:i:0\tMD:Z:151\tYS:i:-3\tYT:Z:CP\n",
      "./analysis/mappings/bowtie2/evolved-6.sam:M02810:197:000000000-AV55U:1:1101:10000:13729\t147\tNODE_12_length_340347_cov_15.499\t185716\t42\t151M\t=\t185617\t-250\tCAATGTCGGCACATGCATTGCATTTCTGCGTTGTGATTATCATCGTTAGTTGAACATATACTACGACATCTGCACGACACTACCAGTCGTTACAAAAAATACGACATTTGAGCCATCGCTGCAAAAAAAACACCATGAGCCGCGACTTGAG\tFHGGGGGFFGFHHHHHHHHGHHGEGGGGGGHHHGHGHFHHGHGGHHHHHHHHHHHHHHGFGHFHHHGGHHHEFAGHHHHHGGHGGGGGHGHHGGHHHHHHGHHHHGGHFHGHFGDGGHGHHGGGGFFBB2GGGGGGGEGBDBBFDFBBBBB\tAS:i:-3\tXN:i:0\tXM:i:1\tXO:i:0\tXG:i:0\tNM:i:1\tMD:Z:129T21\tYS:i:0\tYT:Z:CP\n",
      "./analysis/mappings/bowtie2/evolved-6.sam:M02810:197:000000000-AV55U:1:1101:10000:9780\t83\tNODE_14_length_315467_cov_15.5556\t39335\t42\t151M\t=\t39189\t-297\tCATTTCCGTTATAACCTTGATTTTTGGAGGTTCTCCCTTATGAATGTCGCCATTTGTTTCACCTGGCTTGTTGACTTGGAATAATTGTGTGAAACTTCCCAAGAACGCTTTAAATACTTTATCTCTTGGGGTTGCTTCTGGTCCCAAATTG\tHHGGGGGHHHHHHHGHHHHHHGHHHHHHHHHGGHHHHHGHHHHGGGGGHHHHHHHHHHHHHHHHGHHHHHHHHHHHHHHHHHHHGGHHHHHHHHGHHHHHHGGGGGHHHHHHHHHHHHHHHGHHHGGGGGGGGGGGGGGCFCCFFFCCCCC\tAS:i:0\tXN:i:0\tXM:i:0\tXO:i:0\tXG:i:0\tNM:i:0\tMD:Z:151\tYS:i:-3\tYT:Z:CP\n",
      "./analysis/mappings/bowtie2/evolved-6.sam:M02810:197:000000000-AV55U:1:1101:10000:9780\t163\tNODE_14_length_315467_cov_15.5556\t39189\t42\t151M\t=\t39335\t297\tACTTCTGTAATCTTAGGGTTCCGAACGCACGGTGAAATTGTAGTAGATCCCGAGCACTTCACCTTCAATTCGTTTGATAACACATGAGGTTTGATATAATATTCCTCGAAGTTGAGAACTCTTGTAACAATCTTACGGCCAATCTTCATTT\tCCBCCFFFFFFFGGGGGGGGG4EEGGGGGGGGFHGHHHHHGHHHHHHHHHHGGGGGHHHHHHHHHHHHHHHGHHGGHHHHHHHHHHHGHGGHGHHHHHFHHEHHHHHGGHGGHHHHHHHHHHHHHHGHHHHHHHHHGGGGGHHHGHHHGHF\tAS:i:-3\tXN:i:0\tXM:i:1\tXO:i:0\tXG:i:0\tNM:i:1\tMD:Z:21T129\tYS:i:0\tYT:Z:CP\n",
      "./analysis/mappings/bowtie2/evolved-6.sam:M02810:197:000000000-AV55U:1:1101:10001:10029\t83\tNODE_4_length_925223_cov_15.3905\t256590\t42\t151M\t=\t256272\t-469\tAATAGCGTCCATTATCACTTGCGTAGTGGAGATTATTGTATCAAGAGGCGAAGATCCTGATGCAATTTTTGTTGCAGTTGTCATAGACACCTCCGAGGGTACTACCAGCAGAAACCCCAGCGACGGTGTGGACGGAGATGAGAATACCCAT\tHGGGGGHHHHHHHHHGGGGGGGHHHHHHHHHHHHHHHHHHHHHHGGGGHHHHHHHHHHHHHHHHHHHHHHHHHHHHHHHHHHHHHHHHGGGGGGHHHHHHHHHHHHHHHHHGGFGGGGGGGGHGGGHHGGGGGGGGGGGFFFFFFFDDEEE\tAS:i:0\tXN:i:0\tXM:i:0\tXO:i:0\tXG:i:0\tNM:i:0\tMD:Z:151\tYS:i:-4\tYT:Z:CP\n",
      "./analysis/mappings/bowtie2/evolved-6.sam:M02810:197:000000000-AV55U:1:1101:10001:10029\t163\tNODE_4_length_925223_cov_15.3905\t256272\t42\t151M\t=\t256590\t469\tTGCGGCTGTGTTGGAGTCATCTAAGGGTAGTGGTGTGAATGTGAAGGTCGAGACCGTTTAGGTTAAAAAGTTCAAGTAAATATATGGTAATGAAAGAATTGATTATGAAGTGTTCATTGAGTGTAGTATAGATAGGAAAGAAGGGTTTCAG\tBBBBBBBBCFFFGGGGGGGGG5DDDFGFGFGHHHGHGFHHHHHHHHHGHGGGHGGGEFHHHHHHHHHHHGHHHGHHHHHHHHGHHHHFFGHHHHHHHHHHHHHHGHHHHHGHDHHHHHGHGGHFHHHHHHHHHHHGHHHHHHHHGGHGHHH\tAS:i:-4\tXN:i:0\tXM:i:1\tXO:i:0\tXG:i:0\tNM:i:1\tMD:Z:21A129\tYS:i:0\tYT:Z:CP\n",
      "./analysis/mappings/bowtie2/evolved-6.sam:M02810:197:000000000-AV55U:1:1101:10001:11933\t83\tNODE_5_length_916389_cov_15.4457\t389396\t42\t151M\t=\t388945\t-602\tTTAGATTTGCCGATTTCTCAATTATCATTGCACTTGCTGTGCTTTCTCGCCTGAAACTCTGGTGTATTATGCCTTTGAGCCCTGCTAGAAACAGGCGGTTTCGAACAAGAGTGATTGTATGAAAATACAGCTAAGTGTTCCATAGCCTGTC\tHHHHHHGGGGGHGHHHHHHHGHHHHHHHHHHGHHHHHHHHHHHGGGGGHHHHHHHHHHHHHHHHHHHHHHHHHHHHHHGGHGHHGHHHHHHHGGGGHGGHHGHHHHHHHHHHHHHHHHHHHHHHHHHHHGGGGGGGGGGFFFFFCCCDDDD\tAS:i:0\tXN:i:0\tXM:i:0\tXO:i:0\tXG:i:0\tNM:i:0\tMD:Z:151\tYS:i:-5\tYT:Z:CP\n",
      "./analysis/mappings/bowtie2/evolved-6.sam:M02810:197:000000000-AV55U:1:1101:10001:11933\t163\tNODE_5_length_916389_cov_15.4457\t388945\t42\t151M\t=\t389396\t602\tTGGATTGAAACTATACTCGAGTTAAGCTTATTCTCTTTCTATTGTTCGAGGAGTTCGAAATGCATCTTCAACTCATGAAAAATGCGATGATTATCGATTTTTTGGGCTTATCCATGCGTCTTTGTCTTGAGATTTATTCTTTATTGCATTC\tBBBBBFFFFFFFGGGGGGGGGBBDFGHHHHHHHHHHHHHHHHHGHHHGHHGGGHGHGHHDHHHHHHHGHHHHHHHHHHHHHHHHGGAHGFHHHHHHHHHGHHGGGGHHHHHHHHHHHGGGGGHHHHHHHFHHGHHGHGHHHHHHHGHHHGF\tAS:i:-5\tXN:i:0\tXM:i:1\tXO:i:0\tXG:i:0\tNM:i:1\tMD:Z:21C129\tYS:i:0\tYT:Z:CP\n"
     ]
    },
    {
     "name": "stderr",
     "output_type": "stream",
     "text": [
      "grep: head: No such file or directory\n"
     ]
    }
   ],
   "source": [
    "%%bash\n",
    "grep -v '^@' head ./analysis/mappings/bowtie2/evolved-6.sam | head"
   ]
  },
  {
   "cell_type": "code",
   "execution_count": null,
   "metadata": {},
   "outputs": [],
   "source": []
  }
 ],
 "metadata": {
  "kernelspec": {
   "display_name": "Python 3",
   "language": "python",
   "name": "python3"
  },
  "language_info": {
   "codemirror_mode": {
    "name": "ipython",
    "version": 3
   },
   "file_extension": ".py",
   "mimetype": "text/x-python",
   "name": "python",
   "nbconvert_exporter": "python",
   "pygments_lexer": "ipython3",
   "version": "3.6.6"
  }
 },
 "nbformat": 4,
 "nbformat_minor": 2
}
