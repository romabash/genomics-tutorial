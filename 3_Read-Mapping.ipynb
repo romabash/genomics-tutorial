{
 "cells": [
  {
   "cell_type": "markdown",
   "metadata": {},
   "source": [
    "# Read Mapping\n",
    "Map reads from the evolved line to ancestral reference genome"
   ]
  },
  {
   "cell_type": "markdown",
   "metadata": {},
   "source": [
    "<hr >"
   ]
  },
  {
   "cell_type": "markdown",
   "metadata": {},
   "source": [
    "## Current Directory Structure"
   ]
  },
  {
   "cell_type": "code",
   "execution_count": 1,
   "metadata": {},
   "outputs": [
    {
     "name": "stdout",
     "output_type": "stream",
     "text": [
      "assembly/\n",
      "data/\n",
      "fastqc-analysis/\n",
      "trimmed/\n"
     ]
    }
   ],
   "source": [
    "%%bash\n",
    "cd ./analysis\n",
    "ls -1F"
   ]
  },
  {
   "cell_type": "markdown",
   "metadata": {},
   "source": [
    "- data: Raw FASTQ files\n",
    "- trimmed: Sickle trimmed FASTQ files\n",
    "- fastqc-analysis: FASTQC analysis of raw and trimmed FASTQ files\n",
    "- assembly: reference genome assembly from ancestral genome"
   ]
  },
  {
   "cell_type": "markdown",
   "metadata": {},
   "source": [
    "<hr >"
   ]
  },
  {
   "cell_type": "markdown",
   "metadata": {},
   "source": [
    "## Bowtie2: Mapping sequence reads to a reference genome\n",
    "- Install using conda\n",
    "- Using bowtie2-2.3.4.3 version"
   ]
  },
  {
   "cell_type": "raw",
   "metadata": {},
   "source": [
    "conda install bowtie2\n",
    "\n",
    "# bowtie2 help\n",
    "bowtie2-build"
   ]
  },
  {
   "cell_type": "markdown",
   "metadata": {},
   "source": [
    "### Index with bowtie2\n",
    "- Use bowtie2-build to index reference genome\n",
    "- bowtie2-build {reference_in} {bt2_index_base}"
   ]
  },
  {
   "cell_type": "raw",
   "metadata": {},
   "source": [
    "bowtie2-build assembly/bowtie2/scaffolds.fasta assembly/bowtie2/scaffolds"
   ]
  },
  {
   "cell_type": "markdown",
   "metadata": {},
   "source": [
    "- Creates several .bt2 binary files"
   ]
  },
  {
   "cell_type": "code",
   "execution_count": 4,
   "metadata": {},
   "outputs": [
    {
     "name": "stdout",
     "output_type": "stream",
     "text": [
      "contigs.fasta\n",
      "contigs.paths\n",
      "scaffolds.1.bt2\n",
      "scaffolds.2.bt2\n",
      "scaffolds.3.bt2\n",
      "scaffolds.4.bt2\n",
      "scaffolds.fasta\n",
      "scaffolds.paths\n",
      "scaffolds.rev.1.bt2\n",
      "scaffolds.rev.2.bt2\n"
     ]
    }
   ],
   "source": [
    "%%bash\n",
    "cd ./analysis/assembly/bowtie2\n",
    "ls "
   ]
  },
  {
   "cell_type": "markdown",
   "metadata": {},
   "source": [
    "### Map pair-end reads using Bowtie2\n",
    "- Map the filtered and trimmed sequencing reads of evolved line to the reference genome\n",
    "- bowtie2 -X 1000 -x PATH_TO_INDEX_PREFIX -1 read1.fq.gz -2 read2.fq.gz -S aln-pe.sam\n",
    "    - -X: Adjust the maximum fragment size (length of paired-end alignments + insert size) to 1000bp.  Default is at 500bp and is often too short\n",
    "    - -S: Sam file output\n",
    "- Create Output directory beforehand"
   ]
  },
  {
   "cell_type": "raw",
   "metadata": {},
   "source": [
    "bowtie2 -X 1000 -x assembly/bowtie2/scaffolds -1 trimmed/evolved-6-R1.trimmed.fastq.gz -2 trimmed/evolved-6-R2.trimmed.fastq.gz -S mappings/bowtie2/evolved-6.sam"
   ]
  },
  {
   "cell_type": "markdown",
   "metadata": {},
   "source": [
    "#### Output:\n",
    "- 2445370 reads; of these:\n",
    "      - 2445370 (100.00%) were paired; of these:\n",
    "            - 26060 (1.07%) aligned concordantly 0 times\n",
    "            - 2399778 (98.14%) aligned concordantly exactly 1 time\n",
    "            - 19532 (0.80%) aligned concordantly >1 times\n",
    "    ----\n",
    "    - 26060 pairs aligned concordantly 0 times; of these:\n",
    "        - 16085 (61.72%) aligned discordantly 1 time\n",
    "    ----\n",
    "    - 9975 pairs aligned 0 times concordantly or discordantly; of these:\n",
    "        - 19950 mates make up the pairs; of these:\n",
    "            - 8456 (42.39%) aligned 0 times\n",
    "            - 7628 (38.24%) aligned exactly 1 time\n",
    "            - 3866 (19.38%) aligned >1 times\n",
    "99.83% overall alignment rate\n"
   ]
  },
  {
   "cell_type": "markdown",
   "metadata": {},
   "source": [
    "#### Look at the created (unsorted) SAM file:"
   ]
  },
  {
   "cell_type": "code",
   "execution_count": 3,
   "metadata": {},
   "outputs": [
    {
     "name": "stdout",
     "output_type": "stream",
     "text": [
      "@HD\tVN:1.0\tSO:unsorted\n",
      "@SQ\tSN:NODE_1_length_1394677_cov_15.3771\tLN:1394677\n",
      "@SQ\tSN:NODE_2_length_1051867_cov_15.4779\tLN:1051867\n",
      "@SQ\tSN:NODE_3_length_950567_cov_15.4139\tLN:950567\n",
      "@SQ\tSN:NODE_4_length_925223_cov_15.3905\tLN:925223\n",
      "@SQ\tSN:NODE_5_length_916389_cov_15.4457\tLN:916389\n",
      "@SQ\tSN:NODE_6_length_772252_cov_15.4454\tLN:772252\n",
      "@SQ\tSN:NODE_7_length_506590_cov_15.6969\tLN:506590\n",
      "@SQ\tSN:NODE_8_length_473386_cov_15.0601\tLN:473386\n",
      "@SQ\tSN:NODE_9_length_438517_cov_15.3909\tLN:438517\n"
     ]
    }
   ],
   "source": [
    "%%bash\n",
    "head ./analysis/mappings/bowtie2/evolved-6.sam"
   ]
  },
  {
   "cell_type": "markdown",
   "metadata": {},
   "source": [
    "<hr >"
   ]
  },
  {
   "cell_type": "markdown",
   "metadata": {},
   "source": [
    "## BWA: Mapping sequence reads to a reference genome\n",
    "- Install using conda\n",
    "- Using Version: 0.7.17-r1188"
   ]
  },
  {
   "cell_type": "raw",
   "metadata": {},
   "source": [
    "# BWA help\n",
    "bwa\n",
    "\n",
    "# BWA index help\n",
    "bwa index\n",
    "\n",
    "# BWA mem alignment help\n",
    "bwa mem"
   ]
  },
  {
   "cell_type": "markdown",
   "metadata": {},
   "source": [
    "### Index with BWA\n",
    "- Use bwa index to index reference genome\n",
    "- bwa index {reference.fasta}"
   ]
  },
  {
   "cell_type": "raw",
   "metadata": {},
   "source": [
    "bwa index assembly/bwa/scaffolds.fasta"
   ]
  },
  {
   "cell_type": "markdown",
   "metadata": {},
   "source": [
    "- creates several files"
   ]
  },
  {
   "cell_type": "code",
   "execution_count": 5,
   "metadata": {},
   "outputs": [
    {
     "name": "stdout",
     "output_type": "stream",
     "text": [
      "contigs.fasta\n",
      "contigs.paths\n",
      "scaffolds.fasta\n",
      "scaffolds.fasta.amb\n",
      "scaffolds.fasta.ann\n",
      "scaffolds.fasta.bwt\n",
      "scaffolds.fasta.pac\n",
      "scaffolds.fasta.sa\n",
      "scaffolds.paths\n"
     ]
    }
   ],
   "source": [
    "%%bash\n",
    "cd ./analysis/assembly/bwa\n",
    "ls "
   ]
  },
  {
   "cell_type": "markdown",
   "metadata": {},
   "source": [
    "### Map pair-end reads using BWA MEM\n",
    "- Map the filtered and trimmed sequencing reads of evolved line to the reference genome\n",
    "- Create Output directory beforehand"
   ]
  },
  {
   "cell_type": "raw",
   "metadata": {},
   "source": [
    "bwa mem assembly/bwa/scaffolds.fasta trimmed/evolved-6-R1.trimmed.fastq.gz trimmed/evolved-6-R2.trimmed.fastq.gz > mappings/bwa/evolved-6.sam"
   ]
  },
  {
   "cell_type": "markdown",
   "metadata": {},
   "source": [
    "- A lot faster than Bowtie2"
   ]
  },
  {
   "cell_type": "markdown",
   "metadata": {},
   "source": [
    "#### Look at the created (unsorted) SAM file:"
   ]
  },
  {
   "cell_type": "code",
   "execution_count": 6,
   "metadata": {},
   "outputs": [
    {
     "name": "stdout",
     "output_type": "stream",
     "text": [
      "@SQ\tSN:NODE_1_length_1394677_cov_15.3771\tLN:1394677\n",
      "@SQ\tSN:NODE_2_length_1051867_cov_15.4779\tLN:1051867\n",
      "@SQ\tSN:NODE_3_length_950567_cov_15.4139\tLN:950567\n",
      "@SQ\tSN:NODE_4_length_925223_cov_15.3905\tLN:925223\n",
      "@SQ\tSN:NODE_5_length_916389_cov_15.4457\tLN:916389\n",
      "@SQ\tSN:NODE_6_length_772252_cov_15.4454\tLN:772252\n",
      "@SQ\tSN:NODE_7_length_506590_cov_15.6969\tLN:506590\n",
      "@SQ\tSN:NODE_8_length_473386_cov_15.0601\tLN:473386\n",
      "@SQ\tSN:NODE_9_length_438517_cov_15.3909\tLN:438517\n",
      "@SQ\tSN:NODE_10_length_391599_cov_15.524\tLN:391599\n"
     ]
    }
   ],
   "source": [
    "%%bash\n",
    "head ./analysis/mappings/bwa/evolved-6.sam"
   ]
  },
  {
   "cell_type": "markdown",
   "metadata": {},
   "source": [
    "#### Quick stats on MAPQ score (5th column):"
   ]
  },
  {
   "cell_type": "code",
   "execution_count": 8,
   "metadata": {},
   "outputs": [
    {
     "name": "stdout",
     "output_type": "stream",
     "text": [
      "59.8424\n"
     ]
    }
   ],
   "source": [
    "%%bash\n",
    "grep -v '^@' analysis/mappings/bwa/evolved-6.sam | awk '{ sum+=$5; n++ } END { if(n>0) print sum /n}'"
   ]
  },
  {
   "cell_type": "markdown",
   "metadata": {},
   "source": [
    "<hr >"
   ]
  }
 ],
 "metadata": {
  "kernelspec": {
   "display_name": "Python 3",
   "language": "python",
   "name": "python3"
  },
  "language_info": {
   "codemirror_mode": {
    "name": "ipython",
    "version": 3
   },
   "file_extension": ".py",
   "mimetype": "text/x-python",
   "name": "python",
   "nbconvert_exporter": "python",
   "pygments_lexer": "ipython3",
   "version": "3.6.6"
  }
 },
 "nbformat": 4,
 "nbformat_minor": 2
}
