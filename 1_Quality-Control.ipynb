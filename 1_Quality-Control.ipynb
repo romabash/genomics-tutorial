{
 "cells": [
  {
   "cell_type": "markdown",
   "metadata": {},
   "source": [
    "# Quality Control\n",
    "- Pre-process and clean data\n",
    "- QC sequencing data"
   ]
  },
  {
   "cell_type": "markdown",
   "metadata": {},
   "source": [
    "<hr />"
   ]
  },
  {
   "cell_type": "markdown",
   "metadata": {},
   "source": [
    "## Obtain Data:\n",
    "- Obtain Illumina MiSeq paired-end sequencing run data using curl\n",
    "- 2 files for each pair of the read (stored in the *analysis/data* folder)\n",
    "- Illunima adapters have been removed"
   ]
  },
  {
   "cell_type": "raw",
   "metadata": {},
   "source": [
    "# Download data and uncompress it\n",
    "curl -O http://compbio.massey.ac.nz/data/203341/data.tar.gz\n",
    "tar -xvzf data.tar.gz"
   ]
  },
  {
   "cell_type": "code",
   "execution_count": 8,
   "metadata": {},
   "outputs": [
    {
     "name": "stdout",
     "output_type": "stream",
     "text": [
      "ancestor-R1.fastq.gz\n",
      "ancestor-R2.fastq.gz\n",
      "evolved-6-R1.fastq.gz\n",
      "evolved-6-R2.fastq.gz\n"
     ]
    }
   ],
   "source": [
    "%%bash\n",
    "ls ./analysis/data"
   ]
  },
  {
   "cell_type": "markdown",
   "metadata": {},
   "source": [
    "<hr >"
   ]
  },
  {
   "cell_type": "code",
   "execution_count": null,
   "metadata": {},
   "outputs": [],
   "source": []
  }
 ],
 "metadata": {
  "kernelspec": {
   "display_name": "Python 3",
   "language": "python",
   "name": "python3"
  },
  "language_info": {
   "codemirror_mode": {
    "name": "ipython",
    "version": 3
   },
   "file_extension": ".py",
   "mimetype": "text/x-python",
   "name": "python",
   "nbconvert_exporter": "python",
   "pygments_lexer": "ipython3",
   "version": "3.6.6"
  }
 },
 "nbformat": 4,
 "nbformat_minor": 2
}
