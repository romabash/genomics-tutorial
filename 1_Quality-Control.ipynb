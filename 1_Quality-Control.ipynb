{
 "cells": [
  {
   "cell_type": "markdown",
   "metadata": {},
   "source": [
    "# Quality Control\n",
    "- Pre-process and clean data\n",
    "- QC sequencing data"
   ]
  },
  {
   "cell_type": "markdown",
   "metadata": {},
   "source": [
    "<hr />"
   ]
  },
  {
   "cell_type": "markdown",
   "metadata": {},
   "source": [
    "## Obtain Data:\n",
    "- Obtain Illumina MiSeq paired-end sequencing run data using curl\n",
    "- 2 files for each pair of the read (stored in the *analysis/data* folder)\n",
    "- Illunima adapters have been removed"
   ]
  },
  {
   "cell_type": "raw",
   "metadata": {},
   "source": [
    "# Download data and uncompress it\n",
    "curl -O http://compbio.massey.ac.nz/data/203341/data.tar.gz\n",
    "tar -xvzf data.tar.gz"
   ]
  },
  {
   "cell_type": "code",
   "execution_count": 8,
   "metadata": {},
   "outputs": [
    {
     "name": "stdout",
     "output_type": "stream",
     "text": [
      "ancestor-R1.fastq.gz\n",
      "ancestor-R2.fastq.gz\n",
      "evolved-6-R1.fastq.gz\n",
      "evolved-6-R2.fastq.gz\n"
     ]
    }
   ],
   "source": [
    "%%bash\n",
    "ls ./analysis/data"
   ]
  },
  {
   "cell_type": "markdown",
   "metadata": {},
   "source": [
    "<hr >"
   ]
  },
  {
   "cell_type": "markdown",
   "metadata": {},
   "source": [
    "## QC Process:\n",
    "- Perform Quality trimming of reads and Quality assessment\n",
    "- PhiX sequences and adapters have already been removed from the obtained fastq files"
   ]
  },
  {
   "cell_type": "markdown",
   "metadata": {},
   "source": [
    "### Using Sickle for dymanic quality trimming\n",
    "- Install using conda"
   ]
  },
  {
   "cell_type": "raw",
   "metadata": {},
   "source": [
    "conda install sickle-trim"
   ]
  },
  {
   "cell_type": "markdown",
   "metadata": {},
   "source": [
    "### Run sickle on paired-end ancestor FASTQ files\n",
    "- pe, paired-end sequence trimming\n",
    "- -g, --gzip-output, Output gzipped files\n",
    "- -t, --qual-type, Type of quality values (solexa (CASAVA < 1.3), illumina (CASAVA 1.3 to 1.7), sanger (which is CASAVA >= 1.8))\n",
    "\n",
    "- -f, --pe-file1, Input paired-end forward fastq file (Input files must have same number of records)\n",
    "- -r, --pe-file2, Input paired-end reverse fastq file\n",
    "- -o, --output-pe1, Output trimmed forward fastq file\n",
    "- -p, --output-pe2, Output trimmed reverse fastq file. Must use -s option\n",
    "- -s, --output-single, Output trimmed singles fastq file"
   ]
  },
  {
   "cell_type": "raw",
   "metadata": {},
   "source": [
    "sickle pe -g -t sanger -f data/ancestor-R1.fastq.gz -r data/ancestor-R2.fastq.gz -o trimmed/ancestor-R1.trimmed.fastq.gz -p trimmed/ancestor-R2.trimmed.fastq.gz -s trimmed/ancestor-R2.combined.fastq.gz"
   ]
  },
  {
   "cell_type": "markdown",
   "metadata": {},
   "source": [
    "#### sickle pe run output"
   ]
  },
  {
   "cell_type": "raw",
   "metadata": {},
   "source": [
    "FastQ paired records kept: 3761404 (1880702 pairs)\n",
    "FastQ single records kept: 17786 (from PE1: 17684, from PE2: 102)\n",
    "FastQ paired records discarded: 56 (28 pairs)\n",
    "FastQ single records discarded: 17786 (from PE1: 102, from PE2: 17684)"
   ]
  },
  {
   "cell_type": "markdown",
   "metadata": {},
   "source": [
    "### Run sickle on paired-end evolved FASTQ files"
   ]
  },
  {
   "cell_type": "raw",
   "metadata": {},
   "source": [
    "sickle pe -g -t sanger -f data/evolved-6-R1.fastq.gz -r data/evolved-6-R2.fastq.gz -o trimmed/evolved-6-R1.trimmed.fastq.gz -p trimmed/evolved-6-R2.trimmed.fastq.gz -s trimmed/evolved-6-R2.combined.fastq.gz"
   ]
  },
  {
   "cell_type": "markdown",
   "metadata": {},
   "source": [
    "#### sickle pe run output"
   ]
  },
  {
   "cell_type": "raw",
   "metadata": {},
   "source": [
    "FastQ paired records kept: 4890740 (2445370 pairs)\n",
    "FastQ single records kept: 22025 (from PE1: 21912, from PE2: 113)\n",
    "FastQ paired records discarded: 52 (26 pairs)\n",
    "FastQ single records discarded: 22025 (from PE1: 113, from PE2: 21912)"
   ]
  },
  {
   "cell_type": "markdown",
   "metadata": {},
   "source": [
    "### Look at trimmed files"
   ]
  },
  {
   "cell_type": "code",
   "execution_count": 1,
   "metadata": {},
   "outputs": [
    {
     "name": "stdout",
     "output_type": "stream",
     "text": [
      "ancestor-R1.trimmed.fastq.gz\n",
      "ancestor-R2.combined.fastq.gz\n",
      "ancestor-R2.trimmed.fastq.gz\n",
      "evolved-6-R1.trimmed.fastq.gz\n",
      "evolved-6-R2.combined.fastq.gz\n",
      "evolved-6-R2.trimmed.fastq.gz\n"
     ]
    }
   ],
   "source": [
    "%%bash\n",
    "ls ./analysis/trimmed"
   ]
  },
  {
   "cell_type": "markdown",
   "metadata": {},
   "source": [
    "<hr >"
   ]
  },
  {
   "cell_type": "code",
   "execution_count": null,
   "metadata": {},
   "outputs": [],
   "source": []
  }
 ],
 "metadata": {
  "kernelspec": {
   "display_name": "Python 3",
   "language": "python",
   "name": "python3"
  },
  "language_info": {
   "codemirror_mode": {
    "name": "ipython",
    "version": 3
   },
   "file_extension": ".py",
   "mimetype": "text/x-python",
   "name": "python",
   "nbconvert_exporter": "python",
   "pygments_lexer": "ipython3",
   "version": "3.6.6"
  }
 },
 "nbformat": 4,
 "nbformat_minor": 2
}
