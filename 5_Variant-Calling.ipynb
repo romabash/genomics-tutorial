{
 "cells": [
  {
   "cell_type": "markdown",
   "metadata": {},
   "source": [
    "# Variant Calling\n",
    "Call genetic variants in the evolved line using genome assembly based on the ancestor line"
   ]
  },
  {
   "cell_type": "markdown",
   "metadata": {},
   "source": [
    "<hr >"
   ]
  },
  {
   "cell_type": "markdown",
   "metadata": {},
   "source": [
    "## Current Directory Structure"
   ]
  },
  {
   "cell_type": "code",
   "execution_count": 1,
   "metadata": {},
   "outputs": [
    {
     "name": "stdout",
     "output_type": "stream",
     "text": [
      "assembly/\n",
      "data/\n",
      "fastqc-analysis/\n",
      "mappings/\n",
      "trimmed/\n"
     ]
    }
   ],
   "source": [
    "%%bash\n",
    "cd ./analysis\n",
    "ls -1F"
   ]
  },
  {
   "cell_type": "markdown",
   "metadata": {},
   "source": [
    "- data: Raw FASTQ files\n",
    "- trimmed: Sickle trimmed FASTQ files\n",
    "- fastqc-analysis: FASTQC analysis of raw and trimmed FASTQ files\n",
    "- assembly: reference genome assembly from ancestral genome with bowtie and bwa indexed references\n",
    "- mappings: bowtie and bwa aligned mappings (sorted and post-processed)"
   ]
  },
  {
   "cell_type": "markdown",
   "metadata": {},
   "source": [
    "<hr >"
   ]
  },
  {
   "cell_type": "markdown",
   "metadata": {},
   "source": [
    "## Install necessary tools with conda\n",
    "- samtools: 1.9\n",
    "- bcftools: 1.9\n",
    "- bamtools: 2.5.1\n",
    "- freebayes: 1.2.0\n",
    "- vcflib: 1.0.0_rc2 \n",
    "- rtg-tools: 3.10"
   ]
  },
  {
   "cell_type": "raw",
   "metadata": {},
   "source": [
    "conda install samtools bcftools bamtools freebayes vcflib rtg-tools"
   ]
  },
  {
   "cell_type": "markdown",
   "metadata": {},
   "source": [
    "<hr >"
   ]
  },
  {
   "cell_type": "markdown",
   "metadata": {},
   "source": [
    "## Pre-process: Indexing\n",
    "- Create index FASTA reference for SNP caller using SAMtools\n",
    "- Create index BAM files using BAMtools"
   ]
  },
  {
   "cell_type": "raw",
   "metadata": {},
   "source": [
    "# Create reference index\n",
    "samtools faidx assembly/bwa/scaffolds.fasta"
   ]
  },
  {
   "cell_type": "markdown",
   "metadata": {},
   "source": [
    "- Creates .fai index file in the assebly/bwa directory"
   ]
  },
  {
   "cell_type": "raw",
   "metadata": {},
   "source": [
    "# Create BAM index (could also use SAMtools)\n",
    "bamtools index -in mappings/bwa/evolved-6.sorted.dedup.q20.bam"
   ]
  },
  {
   "cell_type": "markdown",
   "metadata": {},
   "source": [
    "- Creates .bai index file in the mappings/bwa directory"
   ]
  },
  {
   "cell_type": "markdown",
   "metadata": {},
   "source": [
    "<hr >"
   ]
  },
  {
   "cell_type": "markdown",
   "metadata": {},
   "source": [
    "## Varinat Calling with Samtools\n",
    "- Pile up all the reads with SAMtools mpileup:\n",
    "    - -u: uncompressed output\n",
    "    - -g: generate genotype likelihoods in BCF format\n",
    "    - -f FILE: faidx indexed reference sequence file\n",
    "- Call Variants with Bcftools call:\n",
    "    - -v: output variant sites only\n",
    "    - -m: alternative model for multiallelic and rare-variant calling\n",
    "    - -o: output file-name\n",
    "    - -O z: output type: ‘z’ compressed VCF\n",
    "- Save output into variants directory"
   ]
  },
  {
   "cell_type": "raw",
   "metadata": {},
   "source": [
    "samtools mpileup -u -g -f assembly/bwa/scaffolds.fasta mappings/bwa/evolved-6.sorted.dedup.q20.bam | bcftools call -v -m -O z -o variants/evolved-6.mpileup.vcf.gz"
   ]
  },
  {
   "cell_type": "markdown",
   "metadata": {},
   "source": [
    "#### Count number of variants:"
   ]
  },
  {
   "cell_type": "code",
   "execution_count": 5,
   "metadata": {},
   "outputs": [
    {
     "name": "stdout",
     "output_type": "stream",
     "text": [
      "695\n"
     ]
    }
   ],
   "source": [
    "%%bash\n",
    "zcat analysis/variants/evolved-6.mpileup.vcf.gz | grep -v '^#' | wc -l"
   ]
  },
  {
   "cell_type": "markdown",
   "metadata": {},
   "source": [
    "<hr >"
   ]
  },
  {
   "cell_type": "markdown",
   "metadata": {},
   "source": [
    "## Varinat Calling with Freebayes\n",
    "- Reference genome scaffold file:\n",
    "    - in fasta-format and the index in .fai format \n",
    "- Mapping BAM file:\n",
    "    - Mapping file (.bam file) and a mapping index (.bai file)\n",
    "- Callvariants with freebayes and pipe results to a new file\n",
    "- -f --fasta-reference FILE: \n",
    "    - Use FILE as the reference sequence for analysis.  An index file (FILE.fai) will be created if none exists.  If neither --targets nor --region are specified, FreeBayes will analyze every position in this reference.\n"
   ]
  },
  {
   "cell_type": "raw",
   "metadata": {},
   "source": [
    "freebayes -f assembly/bwa/scaffolds.fasta mappings/bwa/evolved-6.sorted.dedup.q20.bam | gzip > variants/evolved-6.freebayes.vcf.gz"
   ]
  },
  {
   "cell_type": "markdown",
   "metadata": {},
   "source": [
    "#### Count number of variants:"
   ]
  },
  {
   "cell_type": "code",
   "execution_count": null,
   "metadata": {},
   "outputs": [],
   "source": [
    "%%bash\n",
    "zcat analysis/variants/evolved-6.mpileup.vcf.gz | grep -v '^#' | wc -l"
   ]
  }
 ],
 "metadata": {
  "kernelspec": {
   "display_name": "Python 3",
   "language": "python",
   "name": "python3"
  },
  "language_info": {
   "codemirror_mode": {
    "name": "ipython",
    "version": 3
   },
   "file_extension": ".py",
   "mimetype": "text/x-python",
   "name": "python",
   "nbconvert_exporter": "python",
   "pygments_lexer": "ipython3",
   "version": "3.6.6"
  }
 },
 "nbformat": 4,
 "nbformat_minor": 2
}
