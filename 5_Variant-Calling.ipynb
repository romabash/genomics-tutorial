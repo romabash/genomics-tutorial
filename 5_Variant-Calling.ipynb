{
 "cells": [
  {
   "cell_type": "markdown",
   "metadata": {},
   "source": [
    "# Variant Calling\n",
    "Call genetic variants in the evolved line using genome assembly based on the ancestor line"
   ]
  },
  {
   "cell_type": "markdown",
   "metadata": {},
   "source": [
    "<hr >"
   ]
  },
  {
   "cell_type": "markdown",
   "metadata": {},
   "source": [
    "## Current Directory Structure"
   ]
  },
  {
   "cell_type": "code",
   "execution_count": 1,
   "metadata": {},
   "outputs": [
    {
     "name": "stdout",
     "output_type": "stream",
     "text": [
      "assembly/\n",
      "data/\n",
      "fastqc-analysis/\n",
      "mappings/\n",
      "trimmed/\n"
     ]
    }
   ],
   "source": [
    "%%bash\n",
    "cd ./analysis\n",
    "ls -1F"
   ]
  },
  {
   "cell_type": "markdown",
   "metadata": {},
   "source": [
    "- data: Raw FASTQ files\n",
    "- trimmed: Sickle trimmed FASTQ files\n",
    "- fastqc-analysis: FASTQC analysis of raw and trimmed FASTQ files\n",
    "- assembly: reference genome assembly from ancestral genome with bowtie and bwa indexed references\n",
    "- mappings: bowtie and bwa aligned mappings (sorted and post-processed)"
   ]
  },
  {
   "cell_type": "markdown",
   "metadata": {},
   "source": [
    "<hr >"
   ]
  },
  {
   "cell_type": "markdown",
   "metadata": {},
   "source": [
    "## Install necessary tools with conda\n",
    "- samtools: 1.9\n",
    "- bcftools: 1.9\n",
    "- bamtools: 2.5.1\n",
    "- freebayes: 1.2.0\n",
    "- vcflib: 1.0.0_rc2 \n",
    "- rtg-tools: 3.10"
   ]
  },
  {
   "cell_type": "raw",
   "metadata": {},
   "source": [
    "conda install samtools bcftools bamtools freebayes vcflib rtg-tools"
   ]
  },
  {
   "cell_type": "markdown",
   "metadata": {},
   "source": [
    "<hr >"
   ]
  },
  {
   "cell_type": "markdown",
   "metadata": {},
   "source": [
    "## Pre-process: Indexing\n",
    "- Create index FASTA reference for SNP caller using SAMtools\n",
    "- Create index BAM files using BAMtools"
   ]
  },
  {
   "cell_type": "raw",
   "metadata": {},
   "source": [
    "# Create reference index\n",
    "samtools faidx assembly/bwa/scaffolds.fasta"
   ]
  },
  {
   "cell_type": "markdown",
   "metadata": {},
   "source": [
    "- Creates .fai index file in the assebly/bwa directory"
   ]
  },
  {
   "cell_type": "raw",
   "metadata": {},
   "source": [
    "# Create BAM index (could also use SAMtools)\n",
    "bamtools index -in mappings/bwa/evolved-6.sorted.dedup.q20.bam"
   ]
  },
  {
   "cell_type": "markdown",
   "metadata": {},
   "source": [
    "- Creates .bai index file in the mappings/bwa directory"
   ]
  },
  {
   "cell_type": "markdown",
   "metadata": {},
   "source": [
    "<hr >"
   ]
  },
  {
   "cell_type": "markdown",
   "metadata": {},
   "source": [
    "## VCF file Format\n",
    "| Column        | Field         | Description  |\n",
    "| ------------- |:-------------:|:-----:|\n",
    "| 1 |CHROM  |Chromosome name  |\n",
    "| 2 |POS   |1-based position. For an indel, this is the position preceding the indel |\n",
    "| 3 |ID  |Variant identifier (example: the dbSNP rsID) |\n",
    "| 4 |REF    |Reference sequence at POS involved in the variant. For a SNP, it is a single base |\n",
    "| 5 |ALT   | Comma delimited list of alternative seuqence(s)  |\n",
    "| 6 |QUAL  |Phred-scaled probability of all samples being homozygous reference  |\n",
    "| 7 |FILTER   |Semicolon delimited list of filters that the variant fails to pass |\n",
    "| 8 |INFO   |Semicolon delimited list of variant information  |\n",
    "| 9 |FORMAT  |Colon delimited list of the format of individual genotypes in the following fields  |\n",
    "| 10|SAMPLES    |Individual genotype information defined by FORMAT |\n"
   ]
  },
  {
   "cell_type": "markdown",
   "metadata": {},
   "source": [
    "<hr >"
   ]
  },
  {
   "cell_type": "markdown",
   "metadata": {},
   "source": [
    "## Varinat Calling with Samtools\n",
    "- Pile up all the reads with SAMtools mpileup:\n",
    "    - -u: uncompressed output\n",
    "    - -g: generate genotype likelihoods in BCF format\n",
    "    - -f FILE: faidx indexed reference sequence file\n",
    "- Call Variants with Bcftools call:\n",
    "    - -v: output variant sites only\n",
    "    - -m: alternative model for multiallelic and rare-variant calling\n",
    "    - -o: output file-name\n",
    "    - -O z: output type: ‘z’ compressed VCF\n",
    "- Save output into variants directory"
   ]
  },
  {
   "cell_type": "raw",
   "metadata": {},
   "source": [
    "samtools mpileup -u -g -f assembly/bwa/scaffolds.fasta mappings/bwa/evolved-6.sorted.dedup.q20.bam | bcftools call -v -m -O z -o variants/evolved-6.mpileup.vcf.gz"
   ]
  },
  {
   "cell_type": "markdown",
   "metadata": {},
   "source": [
    "#### Count number of variants:"
   ]
  },
  {
   "cell_type": "code",
   "execution_count": 5,
   "metadata": {},
   "outputs": [
    {
     "name": "stdout",
     "output_type": "stream",
     "text": [
      "695\n"
     ]
    }
   ],
   "source": [
    "%%bash\n",
    "zcat analysis/variants/evolved-6.mpileup.vcf.gz | grep -v '^#' | wc -l"
   ]
  },
  {
   "cell_type": "markdown",
   "metadata": {},
   "source": [
    "<hr >"
   ]
  },
  {
   "cell_type": "markdown",
   "metadata": {},
   "source": [
    "## Varinat Calling with Freebayes\n",
    "- Reference genome scaffold file:\n",
    "    - in fasta-format and the index in .fai format \n",
    "- Mapping BAM file:\n",
    "    - Mapping file (.bam file) and a mapping index (.bai file)\n",
    "- Callvariants with freebayes and pipe results to a new file\n",
    "- -f --fasta-reference FILE: \n",
    "    - Use FILE as the reference sequence for analysis.  An index file (FILE.fai) will be created if none exists.  If neither --targets nor --region are specified, FreeBayes will analyze every position in this reference.\n"
   ]
  },
  {
   "cell_type": "raw",
   "metadata": {},
   "source": [
    "freebayes -f assembly/bwa/scaffolds.fasta mappings/bwa/evolved-6.sorted.dedup.q20.bam | gzip > variants/evolved-6.freebayes.vcf.gz"
   ]
  },
  {
   "cell_type": "markdown",
   "metadata": {},
   "source": [
    "#### Count number of variants:"
   ]
  },
  {
   "cell_type": "code",
   "execution_count": 6,
   "metadata": {},
   "outputs": [
    {
     "name": "stdout",
     "output_type": "stream",
     "text": [
      "5656\n"
     ]
    }
   ],
   "source": [
    "%%bash\n",
    "zcat analysis/variants/evolved-6.freebayes.vcf.gz | grep -v '^#' | wc -l"
   ]
  },
  {
   "cell_type": "markdown",
   "metadata": {},
   "source": [
    "<hr >"
   ]
  },
  {
   "cell_type": "markdown",
   "metadata": {},
   "source": [
    "## Index VCF files with tabix (SAMtools) to prepare vcf-file for querying\n",
    "- tabix version: 1.9\n",
    "- -p vcf: input format"
   ]
  },
  {
   "cell_type": "raw",
   "metadata": {},
   "source": [
    "tabix -p vcf variants/evolved-6.mpileup.vcf.gz"
   ]
  },
  {
   "cell_type": "markdown",
   "metadata": {},
   "source": [
    "- Creates .tbi index file"
   ]
  },
  {
   "cell_type": "markdown",
   "metadata": {},
   "source": [
    "## Quick stats with rtg vcfstats (mpileup):"
   ]
  },
  {
   "cell_type": "code",
   "execution_count": 7,
   "metadata": {},
   "outputs": [
    {
     "name": "stdout",
     "output_type": "stream",
     "text": [
      "Location                     : analysis/variants/evolved-6.mpileup.vcf.gz\n",
      "Failed Filters               : 0\n",
      "Passed Filters               : 695\n",
      "SNPs                         : 644\n",
      "MNPs                         : 0\n",
      "Insertions                   : 25\n",
      "Deletions                    : 26\n",
      "Indels                       : 0\n",
      "Same as reference            : 0\n",
      "SNP Transitions/Transversions: 1.64 (421/256)\n",
      "Total Het/Hom ratio          : 15.95 (654/41)\n",
      "SNP Het/Hom ratio            : 19.77 (613/31)\n",
      "MNP Het/Hom ratio            : - (0/0)\n",
      "Insertion Het/Hom ratio      : 2.13 (17/8)\n",
      "Deletion Het/Hom ratio       : 12.00 (24/2)\n",
      "Indel Het/Hom ratio          : - (0/0)\n",
      "Insertion/Deletion ratio     : 0.96 (25/26)\n",
      "Indel/SNP+MNP ratio          : 0.08 (51/644)\n"
     ]
    }
   ],
   "source": [
    "%%bash\n",
    "rtg vcfstats analysis/variants/evolved-6.mpileup.vcf.gz"
   ]
  },
  {
   "cell_type": "markdown",
   "metadata": {},
   "source": [
    "## Quick stats with rtg vcfstats (freebayes):"
   ]
  },
  {
   "cell_type": "code",
   "execution_count": 8,
   "metadata": {},
   "outputs": [
    {
     "name": "stdout",
     "output_type": "stream",
     "text": [
      "Location                     : analysis/variants/evolved-6.freebayes.vcf.gz\n",
      "Failed Filters               : 0\n",
      "Passed Filters               : 5656\n",
      "SNPs                         : 739\n",
      "MNPs                         : 151\n",
      "Insertions                   : 42\n",
      "Deletions                    : 70\n",
      "Indels                       : 8\n",
      "Same as reference            : 4646\n",
      "SNP Transitions/Transversions: 1.25 (416/333)\n",
      "Total Het/Hom ratio          : 47.10 (989/21)\n",
      "SNP Het/Hom ratio            : 72.90 (729/10)\n",
      "MNP Het/Hom ratio            : 74.50 (149/2)\n",
      "Insertion Het/Hom ratio      : 7.40 (37/5)\n",
      "Deletion Het/Hom ratio       : 22.33 (67/3)\n",
      "Indel Het/Hom ratio          : 7.00 (7/1)\n",
      "Insertion/Deletion ratio     : 0.60 (42/70)\n",
      "Indel/SNP+MNP ratio          : 0.13 (120/890)\n"
     ]
    }
   ],
   "source": [
    "%%bash\n",
    "rtg vcfstats analysis/variants/evolved-6.freebayes.vcf.gz"
   ]
  },
  {
   "cell_type": "markdown",
   "metadata": {},
   "source": [
    "- More varinats called with Freebayes. 151 Multiple Nucleotide Polymorphisms compared to 0 with mpileup.   "
   ]
  },
  {
   "cell_type": "markdown",
   "metadata": {},
   "source": [
    "<hr >"
   ]
  },
  {
   "cell_type": "markdown",
   "metadata": {},
   "source": [
    "## Variant Filtering (mpileup)\n",
    "-  Filter out low quality reads: only include variants that have quality > 30\n",
    "- Using rtg vcfffilter\n",
    "    - -i FILE: input file\n",
    "    - -o FILE: output file\n",
    "    - -q FLOAT: minimal allowed quality in output."
   ]
  },
  {
   "cell_type": "raw",
   "metadata": {},
   "source": [
    "rtg vcffilter -q 30 -i variants/evolved-6.mpileup.vcf.gz -o variants/evolved-6.mpileup.q30.vcf.gz"
   ]
  },
  {
   "cell_type": "markdown",
   "metadata": {},
   "source": [
    "#### Output:\n",
    "- Total records : 695\n",
    "- Filtered due to quality : 134\n",
    "- Remaining records : 561"
   ]
  },
  {
   "cell_type": "markdown",
   "metadata": {},
   "source": [
    "## Can also use *vcffilter* from vcflib\n",
    "- -f, --info-filter: specifies a filter to apply to the info fields of records, removes alleles which do not pass the filter\n",
    "- -f \"QUAL > 30\": only include variants that have been called with quality >= 30."
   ]
  },
  {
   "cell_type": "raw",
   "metadata": {},
   "source": [
    "zcat variants/evolved-6.mpileup.vcf.gz  | vcffilter -f \"QUAL > 30\" | gzip > variants/evolved-6.mpileup.QUAL30.vcf.gz"
   ]
  },
  {
   "cell_type": "code",
   "execution_count": 11,
   "metadata": {},
   "outputs": [
    {
     "name": "stdout",
     "output_type": "stream",
     "text": [
      "561\n"
     ]
    }
   ],
   "source": [
    "%%bash\n",
    "zcat analysis/variants/evolved-6.mpileup.QUAL30.vcf.gz | grep -v '^#' | wc -l"
   ]
  },
  {
   "cell_type": "markdown",
   "metadata": {},
   "source": [
    "<hr >"
   ]
  },
  {
   "cell_type": "markdown",
   "metadata": {},
   "source": [
    "## Variant Filtering (freebayes)\n",
    "- Using rtg vcffilter on freebayes generated variant calls"
   ]
  },
  {
   "cell_type": "raw",
   "metadata": {},
   "source": [
    "rtg vcffilter -q 30 -i variants/evolved-6.freebayes.vcf.gz -o variants/evolved-6.freebayes.q30.vcf.gz"
   ]
  },
  {
   "cell_type": "markdown",
   "metadata": {},
   "source": [
    "#### Output:\n",
    "- Total records : 5656\n",
    "- Filtered due to quality : 5147\n",
    "- Remaining records : 509"
   ]
  },
  {
   "cell_type": "markdown",
   "metadata": {},
   "source": [
    "### Look at stats for filtered variants (freebayes)"
   ]
  },
  {
   "cell_type": "code",
   "execution_count": 12,
   "metadata": {},
   "outputs": [
    {
     "name": "stdout",
     "output_type": "stream",
     "text": [
      "Location                     : analysis/variants/evolved-6.freebayes.q30.vcf.gz\n",
      "Failed Filters               : 0\n",
      "Passed Filters               : 509\n",
      "SNPs                         : 385\n",
      "MNPs                         : 92\n",
      "Insertions                   : 11\n",
      "Deletions                    : 16\n",
      "Indels                       : 5\n",
      "Same as reference            : 0\n",
      "SNP Transitions/Transversions: 1.93 (260/135)\n",
      "Total Het/Hom ratio          : 24.45 (489/20)\n",
      "SNP Het/Hom ratio            : 37.50 (375/10)\n",
      "MNP Het/Hom ratio            : 45.00 (90/2)\n",
      "Insertion Het/Hom ratio      : 1.20 (6/5)\n",
      "Deletion Het/Hom ratio       : 4.33 (13/3)\n",
      "Indel Het/Hom ratio          : - (5/0)\n",
      "Insertion/Deletion ratio     : 0.69 (11/16)\n",
      "Indel/SNP+MNP ratio          : 0.07 (32/477)\n"
     ]
    }
   ],
   "source": [
    "%%bash\n",
    "rtg vcfstats analysis/variants/evolved-6.freebayes.q30.vcf.gz"
   ]
  },
  {
   "cell_type": "markdown",
   "metadata": {},
   "source": [
    "## Filter based on recommendation form the developer of freebayes\n",
    "- Freebayes adds some extra information to the vcf-fields it creates. This allows for some more detailed filtering. \n",
    "- This will NOT work on the SAMtools mpileup called variants \n",
    "    - QUAL > 1: removes really bad sites\n",
    "    - QUAL / AO > 10: additional contribution of each obs should be 10 log units (~ Q10 per read)\n",
    "    - SAF > 0 & SAR > 0: reads on both strands\n",
    "    - RPR > 1 & RPL > 1: at least two reads “balanced” to each side of the site"
   ]
  },
  {
   "cell_type": "raw",
   "metadata": {},
   "source": [
    "zcat variants/evolved-6.freebayes.vcf.gz  | vcffilter -f \"QUAL > 1 & QUAL / AO > 10 & SAF > 0 & SAR > 0 & RPR > 1 & RPL > 1\" | gzip > variants/evolved-6.freebayes.filtered.vcf.gz"
   ]
  },
  {
   "cell_type": "code",
   "execution_count": 13,
   "metadata": {},
   "outputs": [
    {
     "name": "stdout",
     "output_type": "stream",
     "text": [
      "Location                     : analysis/variants/evolved-6.freebayes.filtered.vcf.gz\n",
      "Failed Filters               : 0\n",
      "Passed Filters               : 265\n",
      "SNPs                         : 208\n",
      "MNPs                         : 45\n",
      "Insertions                   : 6\n",
      "Deletions                    : 5\n",
      "Indels                       : 0\n",
      "Same as reference            : 0\n",
      "Partial Genotype             : 1\n",
      "SNP Transitions/Transversions: 2.46 (150/61)\n",
      "Total Het/Hom ratio          : 25.40 (254/10)\n",
      "SNP Het/Hom ratio            : 68.33 (205/3)\n",
      "MNP Het/Hom ratio            : - (45/0)\n",
      "Insertion Het/Hom ratio      : 0.50 (2/4)\n",
      "Deletion Het/Hom ratio       : 0.67 (2/3)\n",
      "Indel Het/Hom ratio          : - (0/0)\n",
      "Insertion/Deletion ratio     : 1.20 (6/5)\n",
      "Indel/SNP+MNP ratio          : 0.04 (11/253)\n"
     ]
    }
   ],
   "source": [
    "%%bash\n",
    "rtg vcfstats analysis/variants/evolved-6.freebayes.filtered.vcf.gz"
   ]
  },
  {
   "cell_type": "markdown",
   "metadata": {},
   "source": [
    "<hr >"
   ]
  }
 ],
 "metadata": {
  "kernelspec": {
   "display_name": "Python 3",
   "language": "python",
   "name": "python3"
  },
  "language_info": {
   "codemirror_mode": {
    "name": "ipython",
    "version": 3
   },
   "file_extension": ".py",
   "mimetype": "text/x-python",
   "name": "python",
   "nbconvert_exporter": "python",
   "pygments_lexer": "ipython3",
   "version": "3.6.6"
  }
 },
 "nbformat": 4,
 "nbformat_minor": 2
}
