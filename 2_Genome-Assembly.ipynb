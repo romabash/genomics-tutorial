{
 "cells": [
  {
   "cell_type": "markdown",
   "metadata": {},
   "source": [
    "# Genome Assembly\n",
    "- Create a genome assembly from sequencing data"
   ]
  },
  {
   "cell_type": "markdown",
   "metadata": {},
   "source": [
    "<hr >"
   ]
  },
  {
   "cell_type": "markdown",
   "metadata": {},
   "source": [
    "## Current Directory Structure"
   ]
  },
  {
   "cell_type": "code",
   "execution_count": 1,
   "metadata": {},
   "outputs": [
    {
     "name": "stdout",
     "output_type": "stream",
     "text": [
      "data/\n",
      "fastqc-analysis/\n",
      "trimmed/\n"
     ]
    }
   ],
   "source": [
    "%%bash\n",
    "cd ./analysis\n",
    "ls -1F"
   ]
  },
  {
   "cell_type": "markdown",
   "metadata": {},
   "source": [
    "- data: Raw FASTQ files\n",
    "- trimmed: Sickle trimmed FASTQ files\n",
    "- fastqc-analysis: FASTQC analysis of raw and trimmed FASTQ files "
   ]
  },
  {
   "cell_type": "markdown",
   "metadata": {},
   "source": [
    "<hr >"
   ]
  },
  {
   "cell_type": "markdown",
   "metadata": {},
   "source": [
    "## Create Genome Assembly\n",
    "- Use SPAdes to assemle the genome of ancestor (SPAdes is a good choice for fungal genomes)\n",
    "- Use the quality trimmed forward and backward DNA sequences "
   ]
  },
  {
   "cell_type": "markdown",
   "metadata": {},
   "source": [
    "### SPAdes:\n",
    "- Install SPAdes using conda\n",
    "- Using SPAdes genome assembler v3.13.0"
   ]
  },
  {
   "cell_type": "raw",
   "metadata": {},
   "source": [
    "conda install spades\n",
    "\n",
    "# help for spades and an overview of the parameter type:\n",
    "spades.py -h"
   ]
  },
  {
   "cell_type": "markdown",
   "metadata": {},
   "source": [
    "- -o (output_dir) directory to store all the resulting files (required)\n",
    "- -1 (filename) file with forward paired-end reads\n",
    "- -2 (filename) file with reverse paired-end reads\n",
    "- --merged\t(filename)\tfile with merged forward and reverse paired-end reads"
   ]
  },
  {
   "cell_type": "code",
   "execution_count": null,
   "metadata": {},
   "outputs": [],
   "source": []
  }
 ],
 "metadata": {
  "kernelspec": {
   "display_name": "Python 3",
   "language": "python",
   "name": "python3"
  },
  "language_info": {
   "codemirror_mode": {
    "name": "ipython",
    "version": 3
   },
   "file_extension": ".py",
   "mimetype": "text/x-python",
   "name": "python",
   "nbconvert_exporter": "python",
   "pygments_lexer": "ipython3",
   "version": "3.6.6"
  }
 },
 "nbformat": 4,
 "nbformat_minor": 2
}
