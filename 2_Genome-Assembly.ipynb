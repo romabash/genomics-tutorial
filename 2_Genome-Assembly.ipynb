{
 "cells": [
  {
   "cell_type": "markdown",
   "metadata": {},
   "source": [
    "# Genome Assembly\n",
    "- Create a genome assembly from sequencing data"
   ]
  },
  {
   "cell_type": "markdown",
   "metadata": {},
   "source": [
    "<hr >"
   ]
  },
  {
   "cell_type": "markdown",
   "metadata": {},
   "source": [
    "## Current Directory Structure"
   ]
  },
  {
   "cell_type": "code",
   "execution_count": 1,
   "metadata": {},
   "outputs": [
    {
     "name": "stdout",
     "output_type": "stream",
     "text": [
      "data/\n",
      "fastqc-analysis/\n",
      "trimmed/\n"
     ]
    }
   ],
   "source": [
    "%%bash\n",
    "cd ./analysis\n",
    "ls -1F"
   ]
  },
  {
   "cell_type": "markdown",
   "metadata": {},
   "source": [
    "- data: Raw FASTQ files\n",
    "- trimmed: Sickle trimmed FASTQ files\n",
    "- fastqc-analysis: FASTQC analysis of raw and trimmed FASTQ files "
   ]
  },
  {
   "cell_type": "markdown",
   "metadata": {},
   "source": [
    "<hr >"
   ]
  },
  {
   "cell_type": "markdown",
   "metadata": {},
   "source": [
    "## Create Genome Assembly\n",
    "- Use SPAdes to assemle the genome of ancestor (SPAdes is a good choice for fungal genomes)\n",
    "- Use the quality trimmed forward and backward DNA sequences "
   ]
  },
  {
   "cell_type": "markdown",
   "metadata": {},
   "source": [
    "### SPAdes:\n",
    "- Install SPAdes using conda\n",
    "- Using SPAdes genome assembler v3.13.0"
   ]
  },
  {
   "cell_type": "raw",
   "metadata": {},
   "source": [
    "conda install spades\n",
    "\n",
    "# help for spades and an overview of the parameter type:\n",
    "spades.py -h"
   ]
  },
  {
   "cell_type": "markdown",
   "metadata": {},
   "source": [
    "- -o (output_dir) directory to store all the resulting files (required)\n",
    "- -1 (filename) file with forward paired-end reads\n",
    "- -2 (filename) file with reverse paired-end reads\n",
    "- --merged\t(filename)\tfile with merged forward and reverse paired-end reads"
   ]
  },
  {
   "cell_type": "markdown",
   "metadata": {},
   "source": [
    "<hr >"
   ]
  },
  {
   "cell_type": "markdown",
   "metadata": {},
   "source": [
    "## SPAdes Genome Assembly\n",
    "- Use SPAdes default parameters to assemble the genome\n",
    "- Create the output directory *assembly* ahead of time\n",
    "- Use two trimmed paired-end read files\n",
    "- Need at least 2GB of free RAM"
   ]
  },
  {
   "cell_type": "raw",
   "metadata": {},
   "source": [
    "spades.py -o assembly/spades-default/ -1 trimmed/ancestor-R1.trimmed.fastq.gz -2 trimmed/ancestor-R2.trimmed.fastq.gz"
   ]
  },
  {
   "cell_type": "markdown",
   "metadata": {},
   "source": [
    "#### Assembling long Illumina paired reads (2x150)"
   ]
  },
  {
   "cell_type": "raw",
   "metadata": {},
   "source": [
    "spades.py -o assembly/spades-150/ -k 21,33,55,77 --careful -1 trimmed/ancestor-R1.trimmed.fastq.gz -2 trimmed/ancestor-R2.trimmed.fastq.gz"
   ]
  },
  {
   "cell_type": "markdown",
   "metadata": {},
   "source": [
    "<hr >"
   ]
  },
  {
   "cell_type": "markdown",
   "metadata": {},
   "source": [
    "## Assembly Quality Assessment with QUAST\n",
    "- QUAST evaluates genome assemblies by computing various metrics, including:\n",
    "    - N50: length for which the collection of all contigs of that length or longer covers at least 50% of assembly length\n",
    "    - NG50: where length of the reference genome is being covered\n",
    "    - NA50 and NGA50: where aligned blocks instead of contigs are taken \n",
    "    - missassemblies: misassembled and unaligned contigs or contigs bases \n",
    "    - genes and operons covered"
   ]
  },
  {
   "cell_type": "markdown",
   "metadata": {},
   "source": [
    "### Using QUAST:\n",
    "- Install with conda\n",
    "- Using version: 5.0.2"
   ]
  },
  {
   "cell_type": "raw",
   "metadata": {},
   "source": [
    "quast -o assembly/quast assembly/spades-default/scaffolds.fasta assembly/spades-150/scaffolds.fasta"
   ]
  },
  {
   "cell_type": "markdown",
   "metadata": {},
   "source": [
    "### View Report"
   ]
  },
  {
   "cell_type": "code",
   "execution_count": 2,
   "metadata": {},
   "outputs": [],
   "source": [
    "import pandas as pd"
   ]
  },
  {
   "cell_type": "code",
   "execution_count": 3,
   "metadata": {},
   "outputs": [
    {
     "data": {
      "text/html": [
       "<div>\n",
       "<style scoped>\n",
       "    .dataframe tbody tr th:only-of-type {\n",
       "        vertical-align: middle;\n",
       "    }\n",
       "\n",
       "    .dataframe tbody tr th {\n",
       "        vertical-align: top;\n",
       "    }\n",
       "\n",
       "    .dataframe thead th {\n",
       "        text-align: right;\n",
       "    }\n",
       "</style>\n",
       "<table border=\"1\" class=\"dataframe\">\n",
       "  <thead>\n",
       "    <tr style=\"text-align: right;\">\n",
       "      <th></th>\n",
       "      <th>Assembly</th>\n",
       "      <th>spades-default_scaffolds</th>\n",
       "      <th>spades-150_scaffolds</th>\n",
       "    </tr>\n",
       "  </thead>\n",
       "  <tbody>\n",
       "    <tr>\n",
       "      <th>0</th>\n",
       "      <td># contigs (&gt;= 0 bp)</td>\n",
       "      <td>163.00</td>\n",
       "      <td>175.00</td>\n",
       "    </tr>\n",
       "    <tr>\n",
       "      <th>1</th>\n",
       "      <td># contigs (&gt;= 1000 bp)</td>\n",
       "      <td>44.00</td>\n",
       "      <td>55.00</td>\n",
       "    </tr>\n",
       "    <tr>\n",
       "      <th>2</th>\n",
       "      <td># contigs (&gt;= 5000 bp)</td>\n",
       "      <td>30.00</td>\n",
       "      <td>37.00</td>\n",
       "    </tr>\n",
       "    <tr>\n",
       "      <th>3</th>\n",
       "      <td># contigs (&gt;= 10000 bp)</td>\n",
       "      <td>28.00</td>\n",
       "      <td>35.00</td>\n",
       "    </tr>\n",
       "    <tr>\n",
       "      <th>4</th>\n",
       "      <td># contigs (&gt;= 25000 bp)</td>\n",
       "      <td>27.00</td>\n",
       "      <td>33.00</td>\n",
       "    </tr>\n",
       "    <tr>\n",
       "      <th>5</th>\n",
       "      <td># contigs (&gt;= 50000 bp)</td>\n",
       "      <td>23.00</td>\n",
       "      <td>29.00</td>\n",
       "    </tr>\n",
       "    <tr>\n",
       "      <th>6</th>\n",
       "      <td>Total length (&gt;= 0 bp)</td>\n",
       "      <td>12297994.00</td>\n",
       "      <td>12295197.00</td>\n",
       "    </tr>\n",
       "    <tr>\n",
       "      <th>7</th>\n",
       "      <td>Total length (&gt;= 1000 bp)</td>\n",
       "      <td>12267670.00</td>\n",
       "      <td>12263248.00</td>\n",
       "    </tr>\n",
       "    <tr>\n",
       "      <th>8</th>\n",
       "      <td>Total length (&gt;= 5000 bp)</td>\n",
       "      <td>12235504.00</td>\n",
       "      <td>12225117.00</td>\n",
       "    </tr>\n",
       "    <tr>\n",
       "      <th>9</th>\n",
       "      <td>Total length (&gt;= 10000 bp)</td>\n",
       "      <td>12224205.00</td>\n",
       "      <td>12213818.00</td>\n",
       "    </tr>\n",
       "    <tr>\n",
       "      <th>10</th>\n",
       "      <td>Total length (&gt;= 25000 bp)</td>\n",
       "      <td>12211455.00</td>\n",
       "      <td>12176465.00</td>\n",
       "    </tr>\n",
       "    <tr>\n",
       "      <th>11</th>\n",
       "      <td>Total length (&gt;= 50000 bp)</td>\n",
       "      <td>12069139.00</td>\n",
       "      <td>12034149.00</td>\n",
       "    </tr>\n",
       "    <tr>\n",
       "      <th>12</th>\n",
       "      <td># contigs</td>\n",
       "      <td>51.00</td>\n",
       "      <td>64.00</td>\n",
       "    </tr>\n",
       "    <tr>\n",
       "      <th>13</th>\n",
       "      <td>Largest contig</td>\n",
       "      <td>1419525.00</td>\n",
       "      <td>1394677.00</td>\n",
       "    </tr>\n",
       "    <tr>\n",
       "      <th>14</th>\n",
       "      <td>Total length</td>\n",
       "      <td>12272332.00</td>\n",
       "      <td>12269126.00</td>\n",
       "    </tr>\n",
       "    <tr>\n",
       "      <th>15</th>\n",
       "      <td>GC (%)</td>\n",
       "      <td>42.62</td>\n",
       "      <td>42.62</td>\n",
       "    </tr>\n",
       "    <tr>\n",
       "      <th>16</th>\n",
       "      <td>N50</td>\n",
       "      <td>916533.00</td>\n",
       "      <td>506590.00</td>\n",
       "    </tr>\n",
       "    <tr>\n",
       "      <th>17</th>\n",
       "      <td>N75</td>\n",
       "      <td>443178.00</td>\n",
       "      <td>298585.00</td>\n",
       "    </tr>\n",
       "    <tr>\n",
       "      <th>18</th>\n",
       "      <td>L50</td>\n",
       "      <td>6.00</td>\n",
       "      <td>7.00</td>\n",
       "    </tr>\n",
       "    <tr>\n",
       "      <th>19</th>\n",
       "      <td>L75</td>\n",
       "      <td>12.00</td>\n",
       "      <td>15.00</td>\n",
       "    </tr>\n",
       "    <tr>\n",
       "      <th>20</th>\n",
       "      <td># N's per 100 kbp</td>\n",
       "      <td>0.08</td>\n",
       "      <td>0.07</td>\n",
       "    </tr>\n",
       "  </tbody>\n",
       "</table>\n",
       "</div>"
      ],
      "text/plain": [
       "                      Assembly  spades-default_scaffolds  spades-150_scaffolds\n",
       "0          # contigs (>= 0 bp)                    163.00                175.00\n",
       "1       # contigs (>= 1000 bp)                     44.00                 55.00\n",
       "2       # contigs (>= 5000 bp)                     30.00                 37.00\n",
       "3      # contigs (>= 10000 bp)                     28.00                 35.00\n",
       "4      # contigs (>= 25000 bp)                     27.00                 33.00\n",
       "5      # contigs (>= 50000 bp)                     23.00                 29.00\n",
       "6       Total length (>= 0 bp)               12297994.00           12295197.00\n",
       "7    Total length (>= 1000 bp)               12267670.00           12263248.00\n",
       "8    Total length (>= 5000 bp)               12235504.00           12225117.00\n",
       "9   Total length (>= 10000 bp)               12224205.00           12213818.00\n",
       "10  Total length (>= 25000 bp)               12211455.00           12176465.00\n",
       "11  Total length (>= 50000 bp)               12069139.00           12034149.00\n",
       "12                   # contigs                     51.00                 64.00\n",
       "13              Largest contig                1419525.00            1394677.00\n",
       "14                Total length               12272332.00           12269126.00\n",
       "15                      GC (%)                     42.62                 42.62\n",
       "16                         N50                 916533.00             506590.00\n",
       "17                         N75                 443178.00             298585.00\n",
       "18                         L50                      6.00                  7.00\n",
       "19                         L75                     12.00                 15.00\n",
       "20           # N's per 100 kbp                      0.08                  0.07"
      ]
     },
     "execution_count": 3,
     "metadata": {},
     "output_type": "execute_result"
    }
   ],
   "source": [
    "report = pd.read_table('./analysis/assembly/quast/report.tsv')\n",
    "report"
   ]
  },
  {
   "cell_type": "code",
   "execution_count": null,
   "metadata": {},
   "outputs": [],
   "source": []
  }
 ],
 "metadata": {
  "kernelspec": {
   "display_name": "Python 3",
   "language": "python",
   "name": "python3"
  },
  "language_info": {
   "codemirror_mode": {
    "name": "ipython",
    "version": 3
   },
   "file_extension": ".py",
   "mimetype": "text/x-python",
   "name": "python",
   "nbconvert_exporter": "python",
   "pygments_lexer": "ipython3",
   "version": "3.6.6"
  }
 },
 "nbformat": 4,
 "nbformat_minor": 2
}
